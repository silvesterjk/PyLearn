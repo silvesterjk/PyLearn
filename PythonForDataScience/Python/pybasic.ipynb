{
 "cells": [
  {
   "cell_type": "markdown",
   "metadata": {},
   "source": [
    "### 1. Basic Syntax\n",
    "\n",
    "Python is a widely used high-level programming language with a clean and readable syntax. Here are some basic concepts:\n",
    "\n",
    "- Comments: Use the '#' symbol to write comments.\n",
    "- Print Statement: Use the `print` function to print to the console.\n"
   ]
  },
  {
   "cell_type": "code",
   "execution_count": 1,
   "metadata": {},
   "outputs": [
    {
     "name": "stdout",
     "output_type": "stream",
     "text": [
      "Hello, World!\n"
     ]
    }
   ],
   "source": [
    "# This is a comment\n",
    "print(\"Hello, World!\")"
   ]
  },
  {
   "cell_type": "markdown",
   "metadata": {},
   "source": [
    "### 2. Variables and Data Types\n",
    "\n",
    "In Python, variables are created when you assign a value to them. Here are the primary data types:\n",
    "\n",
    "- Integers\n",
    "- Floats\n",
    "- Strings\n",
    "- Booleans\n"
   ]
  },
  {
   "cell_type": "code",
   "execution_count": 2,
   "metadata": {},
   "outputs": [],
   "source": [
    "x = 5  # Integer\n",
    "y = 5.1  # Float\n",
    "name = \"John\"  # String\n",
    "is_active = True  # Boolean"
   ]
  },
  {
   "cell_type": "markdown",
   "metadata": {},
   "source": [
    "### 3. Conditionals\n",
    "\n",
    "Python supports the usual logical conditions:\n",
    "\n",
    "- Equals: `a == b`\n",
    "- Not Equals: `a != b`\n",
    "- Less than: `a < b`\n",
    "\n",
    "You can use `if` statements to decide which code to be executed if a condition is `true` of `false`. Python used indentation for this."
   ]
  },
  {
   "cell_type": "code",
   "execution_count": 4,
   "metadata": {},
   "outputs": [
    {
     "name": "stdout",
     "output_type": "stream",
     "text": [
      "Minor\n"
     ]
    }
   ],
   "source": [
    "age = 17\n",
    "if age >= 18:\n",
    "    print(\"Adult\")\n",
    "else:\n",
    "    print(\"Minor\")"
   ]
  },
  {
   "cell_type": "markdown",
   "metadata": {},
   "source": [
    "### 4. Loops\n",
    "\n",
    "Python has two primitive loop commands:\n",
    "\n",
    "- `for` loops\n",
    "- `while` loops\n"
   ]
  },
  {
   "cell_type": "code",
   "execution_count": 6,
   "metadata": {},
   "outputs": [
    {
     "name": "stdout",
     "output_type": "stream",
     "text": [
      "0\n",
      "2\n",
      "4\n",
      "6\n",
      "8\n"
     ]
    }
   ],
   "source": [
    "# For loop\n",
    "for i in range(5):\n",
    "    print(i + i)"
   ]
  },
  {
   "cell_type": "code",
   "execution_count": 4,
   "metadata": {},
   "outputs": [
    {
     "name": "stdout",
     "output_type": "stream",
     "text": [
      "0\n",
      "1\n",
      "2\n",
      "3\n",
      "4\n"
     ]
    }
   ],
   "source": [
    "# While loop\n",
    "i = 0\n",
    "while i < 5:\n",
    "    print(i)\n",
    "    i += 1"
   ]
  },
  {
   "cell_type": "markdown",
   "metadata": {},
   "source": [
    "### 5. Type Casting\n",
    "\n",
    "Type casting means converting one data type to another. Here's how you can do it in Python:\n"
   ]
  },
  {
   "cell_type": "code",
   "execution_count": 7,
   "metadata": {},
   "outputs": [
    {
     "name": "stdout",
     "output_type": "stream",
     "text": [
      "5 5\n"
     ]
    }
   ],
   "source": [
    "x = float(5)  # Converts integer to float\n",
    "y = int(5.4)  # Converts float to integer\n",
    "z = str(5)  # Converts integer to string\n",
    "print(y, z)"
   ]
  },
  {
   "cell_type": "markdown",
   "metadata": {},
   "source": [
    "### 6. Exceptions\n",
    "\n",
    "Exceptions are events that occur during code execution, usually when something goes wrong. Python provides a way to handle exceptions using `try` and `except` blocks. "
   ]
  },
  {
   "cell_type": "code",
   "execution_count": 8,
   "metadata": {},
   "outputs": [
    {
     "ename": "ZeroDivisionError",
     "evalue": "division by zero",
     "output_type": "error",
     "traceback": [
      "\u001b[0;31m---------------------------------------------------------------------------\u001b[0m",
      "\u001b[0;31mZeroDivisionError\u001b[0m                         Traceback (most recent call last)",
      "Cell \u001b[0;32mIn[8], line 1\u001b[0m\n\u001b[0;32m----> 1\u001b[0m \u001b[38;5;241;43m10\u001b[39;49m\u001b[43m \u001b[49m\u001b[38;5;241;43m/\u001b[39;49m\u001b[43m \u001b[49m\u001b[38;5;241;43m0\u001b[39;49m\n",
      "\u001b[0;31mZeroDivisionError\u001b[0m: division by zero"
     ]
    }
   ],
   "source": [
    "10 / 0"
   ]
  },
  {
   "cell_type": "code",
   "execution_count": 9,
   "metadata": {},
   "outputs": [
    {
     "name": "stdout",
     "output_type": "stream",
     "text": [
      "Cannot divide by zero\n"
     ]
    }
   ],
   "source": [
    "try:\n",
    "    result = 10 / 0\n",
    "except ZeroDivisionError:\n",
    "    print(\"Cannot divide by zero\")"
   ]
  },
  {
   "cell_type": "code",
   "execution_count": 13,
   "metadata": {},
   "outputs": [
    {
     "name": "stdout",
     "output_type": "stream",
     "text": [
      "Error raised from trying to devide by zero\n"
     ]
    },
    {
     "ename": "ZeroDivisionError",
     "evalue": "Cannot divide by zero",
     "output_type": "error",
     "traceback": [
      "\u001b[0;31m---------------------------------------------------------------------------\u001b[0m",
      "\u001b[0;31mZeroDivisionError\u001b[0m                         Traceback (most recent call last)",
      "Cell \u001b[0;32mIn[13], line 2\u001b[0m\n\u001b[1;32m      1\u001b[0m \u001b[38;5;28;01mtry\u001b[39;00m:\n\u001b[0;32m----> 2\u001b[0m     result \u001b[38;5;241m=\u001b[39m \u001b[38;5;241;43m10\u001b[39;49m\u001b[43m \u001b[49m\u001b[38;5;241;43m/\u001b[39;49m\u001b[43m \u001b[49m\u001b[38;5;241;43m0\u001b[39;49m\n\u001b[1;32m      3\u001b[0m \u001b[38;5;28;01mexcept\u001b[39;00m \u001b[38;5;167;01mZeroDivisionError\u001b[39;00m:\n",
      "\u001b[0;31mZeroDivisionError\u001b[0m: division by zero",
      "\nDuring handling of the above exception, another exception occurred:\n",
      "\u001b[0;31mZeroDivisionError\u001b[0m                         Traceback (most recent call last)",
      "Cell \u001b[0;32mIn[13], line 5\u001b[0m\n\u001b[1;32m      3\u001b[0m \u001b[38;5;28;01mexcept\u001b[39;00m \u001b[38;5;167;01mZeroDivisionError\u001b[39;00m:\n\u001b[1;32m      4\u001b[0m     \u001b[38;5;28mprint\u001b[39m(\u001b[38;5;124m\"\u001b[39m\u001b[38;5;124mError raised from trying to devide by zero\u001b[39m\u001b[38;5;124m\"\u001b[39m)\n\u001b[0;32m----> 5\u001b[0m     \u001b[38;5;28;01mraise\u001b[39;00m \u001b[38;5;167;01mZeroDivisionError\u001b[39;00m(\u001b[38;5;124m\"\u001b[39m\u001b[38;5;124mCannot divide by zero\u001b[39m\u001b[38;5;124m\"\u001b[39m)\n",
      "\u001b[0;31mZeroDivisionError\u001b[0m: Cannot divide by zero"
     ]
    }
   ],
   "source": [
    "try:\n",
    "    result = 10 / 0\n",
    "except ZeroDivisionError:\n",
    "    print(\"Error raised from trying to devide by zero\")\n",
    "    raise ZeroDivisionError(\"Cannot divide by zero\")"
   ]
  },
  {
   "cell_type": "markdown",
   "metadata": {},
   "source": [
    "### 7. Functions and Built-in Functions\n",
    "\n",
    "Functions in Python are defined using the `def` keyword. There are also many built-in functions provided by Python."
   ]
  },
  {
   "cell_type": "code",
   "execution_count": 14,
   "metadata": {},
   "outputs": [
    {
     "data": {
      "text/plain": [
       "6"
      ]
     },
     "execution_count": 14,
     "metadata": {},
     "output_type": "execute_result"
    }
   ],
   "source": [
    "# Using a built-in function\n",
    "length = len(\"Python\")\n",
    "length"
   ]
  },
  {
   "cell_type": "code",
   "execution_count": 17,
   "metadata": {},
   "outputs": [
    {
     "data": {
      "text/plain": [
       "'Hello, Max!'"
      ]
     },
     "execution_count": 17,
     "metadata": {},
     "output_type": "execute_result"
    }
   ],
   "source": [
    "# Custom function\n",
    "def greet(name):\n",
    "    return f\"Hello, {name}!\"\n",
    "\n",
    "greet(name=\"Max\")"
   ]
  },
  {
   "cell_type": "code",
   "execution_count": 12,
   "metadata": {},
   "outputs": [
    {
     "name": "stdout",
     "output_type": "stream",
     "text": [
      "Hello, Max!\n",
      "Hi, Max!\n"
     ]
    }
   ],
   "source": [
    "def greet(name, greeting=\"Hello\"):\n",
    "    return f\"{greeting}, {name}!\"\n",
    "\n",
    "\n",
    "print(greet(\"Max\"))\n",
    "print(greet(\"Max\", greeting=\"Hi\"))"
   ]
  },
  {
   "cell_type": "code",
   "execution_count": 18,
   "metadata": {},
   "outputs": [
    {
     "name": "stdout",
     "output_type": "stream",
     "text": [
      "Hello, Max!\n",
      "Hello, Anna!\n",
      "Hello, John!\n",
      "Welcome, Alice!\n",
      "Welcome, Bob!\n"
     ]
    }
   ],
   "source": [
    "def greet(*names, greeting=\"Hello\"):\n",
    "    for name in names:\n",
    "        print(f\"{greeting}, {name}!\")\n",
    "\n",
    "\n",
    "greet(\"Max\", \"Anna\", \"John\")\n",
    "greet(\"Alice\", \"Bob\", greeting=\"Welcome\")"
   ]
  },
  {
   "cell_type": "code",
   "execution_count": 14,
   "metadata": {},
   "outputs": [
    {
     "name": "stdout",
     "output_type": "stream",
     "text": [
      "Hi, Max!\n",
      "Hi, Anna!\n",
      "Hi, John!\n",
      "Welcome, Alice!\n",
      "Good day, Bob!\n"
     ]
    }
   ],
   "source": [
    "def greet(*names, greeting=\"Hello\", **extra_greetings):\n",
    "    for name in names:\n",
    "        print(f\"{greeting}, {name}!\")\n",
    "    for name, personal_greeting in extra_greetings.items():\n",
    "        print(f\"{personal_greeting}, {name}!\")\n",
    "\n",
    "\n",
    "greet(\"Max\", \"Anna\", \"John\", greeting=\"Hi\", Alice=\"Welcome\", Bob=\"Good day\")"
   ]
  },
  {
   "cell_type": "markdown",
   "metadata": {},
   "source": [
    "### 8. Lists, Tuples, Sets, Dictionaries\n",
    "\n",
    "Python has four collection data types:\n",
    "\n",
    "- List: Ordered and changeable.\n",
    "- Tuple: Ordered and unchangeable.\n",
    "- Set: Unordered and unindexed, only unique values\n",
    "- Dictionary: Unordered, changeable, and indexed by keys."
   ]
  },
  {
   "cell_type": "code",
   "execution_count": 15,
   "metadata": {},
   "outputs": [
    {
     "name": "stdout",
     "output_type": "stream",
     "text": [
      "[1, 2, 0, 4]\n"
     ]
    }
   ],
   "source": [
    "my_list = [1, 2, 3]\n",
    "my_list.append(4)  # Add an element to the end\n",
    "my_list[2] = 0  # Modify an existing element\n",
    "print(my_list)  # Output: [1, 2, 0, 4]"
   ]
  },
  {
   "cell_type": "code",
   "execution_count": 19,
   "metadata": {},
   "outputs": [
    {
     "name": "stdout",
     "output_type": "stream",
     "text": [
      "2\n"
     ]
    }
   ],
   "source": [
    "my_tuple = (1, 2, 3)\n",
    "# my_tuple[2] = 0  # This would result in a TypeError\n",
    "print(my_tuple[1])  # Access an element; Output: 2"
   ]
  },
  {
   "cell_type": "code",
   "execution_count": 21,
   "metadata": {},
   "outputs": [
    {
     "name": "stdout",
     "output_type": "stream",
     "text": [
      "{1, 2, 3}\n",
      "{2, 3, 4}\n"
     ]
    }
   ],
   "source": [
    "my_set = {1, 2, 3, 3}\n",
    "print(my_set)\n",
    "my_set.add(4)\n",
    "my_set.remove(1)\n",
    "print(my_set)"
   ]
  },
  {
   "cell_type": "code",
   "execution_count": 22,
   "metadata": {},
   "outputs": [
    {
     "data": {
      "text/plain": [
       "[1, 2, 3]"
      ]
     },
     "execution_count": 22,
     "metadata": {},
     "output_type": "execute_result"
    }
   ],
   "source": [
    "x = [1, 2, 3, 2, 3, 3, 3, 2]\n",
    "y = list(set(x))\n",
    "y"
   ]
  },
  {
   "cell_type": "code",
   "execution_count": 45,
   "metadata": {},
   "outputs": [
    {
     "name": "stdout",
     "output_type": "stream",
     "text": [
      "John\n"
     ]
    }
   ],
   "source": [
    "my_dict = {\"name\": \"John\", \"age\": 30}\n",
    "my_dict[\"email\"] = \"john@example.com\"\n",
    "my_dict[\"age\"] = 31\n",
    "print(my_dict[\"name\"])"
   ]
  },
  {
   "cell_type": "code",
   "execution_count": 26,
   "metadata": {},
   "outputs": [],
   "source": [
    "data = {'content': '{\"content\": \"Nice to meet you! I\\'m LLaMA, an AI assistant developed by Meta AI that can understand and respond to human input in a conversational manner. I\\'m here to chat with you, answer your questions, and engage in fun conversations. I can discuss a wide range of topics, from science and history to entertainment and culture. I can even generate text based on what you tell me. So, what\\'s on your mind?\", \"additional_kwargs\": {}, \"response_metadata\": {\"token_usage\": {\"prompt_tokens\": 27, \"total_tokens\": 116, \"completion_tokens\": 89}, \"model_name\": \"accounts/fireworks/models/llama-v3-8b-instruct\", \"system_fingerprint\": \"\", \"finish_reason\": \"stop\", \"logprobs\": null}, \"type\": \"ai\", \"name\": null, \"id\": \"run-6edf993d-5d24-4428-a029-8f68fbec799d-0\", \"example\": false, \"tool_calls\": [], \"invalid_tool_calls\": []}'}"
   ]
  },
  {
   "cell_type": "code",
   "execution_count": 42,
   "metadata": {},
   "outputs": [
    {
     "name": "stdout",
     "output_type": "stream",
     "text": [
      "{\"content\": \"Nice to meet you! I'm LLaMA, an AI assistant developed by Meta AI that can understand and respond to human input in a conversational manner. I'm here to chat with you, answer your questions, and engage in fun conversations. I can discuss a wide range of topics, from science and history to entertainment and culture. I can even generate text based on what you tell me. So, what's on your mind?\", \"additional_kwargs\": {}, \"response_metadata\": {\"token_usage\": {\"prompt_tokens\": 27, \"total_tokens\": 116, \"completion_tokens\": 89}, \"model_name\": \"accounts/fireworks/models/llama-v3-8b-instruct\", \"system_fingerprint\": \"\", \"finish_reason\": \"stop\", \"logprobs\": null}, \"type\": \"ai\", \"name\": null, \"id\": \"run-6edf993d-5d24-4428-a029-8f68fbec799d-0\", \"example\": false, \"tool_calls\": [], \"invalid_tool_calls\": []}\n"
     ]
    }
   ],
   "source": [
    "import json\n",
    "data2 = (data[\"content\"])\n",
    "print(data2)\n"
   ]
  },
  {
   "cell_type": "code",
   "execution_count": 46,
   "metadata": {},
   "outputs": [
    {
     "name": "stdout",
     "output_type": "stream",
     "text": [
      "dict_keys(['name', 'age', 'email'])\n"
     ]
    }
   ],
   "source": [
    "keys = my_dict.keys()\n",
    "print(keys)"
   ]
  },
  {
   "cell_type": "code",
   "execution_count": 47,
   "metadata": {},
   "outputs": [
    {
     "name": "stdout",
     "output_type": "stream",
     "text": [
      "dict_values(['John', 31, 'john@example.com'])\n"
     ]
    }
   ],
   "source": [
    "values = my_dict.values()\n",
    "print(values)"
   ]
  },
  {
   "cell_type": "code",
   "execution_count": 24,
   "metadata": {},
   "outputs": [
    {
     "name": "stdout",
     "output_type": "stream",
     "text": [
      "dict_items([('name', 'John'), ('age', 31), ('email', 'john@example.com')])\n"
     ]
    }
   ],
   "source": [
    "items = my_dict.items()\n",
    "print(items)"
   ]
  },
  {
   "cell_type": "code",
   "execution_count": 29,
   "metadata": {},
   "outputs": [
    {
     "ename": "KeyError",
     "evalue": "'email'",
     "output_type": "error",
     "traceback": [
      "\u001b[1;31m---------------------------------------------------------------------------\u001b[0m",
      "\u001b[1;31mKeyError\u001b[0m                                  Traceback (most recent call last)",
      "\u001b[1;32mc:\\Users\\User\\Desktop\\softwareengineering\\basics.ipynb Cell 31\u001b[0m line \u001b[0;36m1\n\u001b[1;32m----> <a href='vscode-notebook-cell:/c%3A/Users/User/Desktop/softwareengineering/basics.ipynb#X41sZmlsZQ%3D%3D?line=0'>1</a>\u001b[0m email \u001b[39m=\u001b[39m my_dict\u001b[39m.\u001b[39;49mpop(\u001b[39m\"\u001b[39;49m\u001b[39memail\u001b[39;49m\u001b[39m\"\u001b[39;49m)\n\u001b[0;32m      <a href='vscode-notebook-cell:/c%3A/Users/User/Desktop/softwareengineering/basics.ipynb#X41sZmlsZQ%3D%3D?line=1'>2</a>\u001b[0m \u001b[39mprint\u001b[39m(email) \n",
      "\u001b[1;31mKeyError\u001b[0m: 'email'"
     ]
    }
   ],
   "source": [
    "email = my_dict.pop(\"email\")\n",
    "print(email)"
   ]
  },
  {
   "cell_type": "code",
   "execution_count": 48,
   "metadata": {},
   "outputs": [
    {
     "name": "stdout",
     "output_type": "stream",
     "text": [
      "{}\n"
     ]
    }
   ],
   "source": [
    "my_dict.clear()\n",
    "print(my_dict)"
   ]
  },
  {
   "cell_type": "markdown",
   "metadata": {},
   "source": [
    "### 9. List Comprehensions, Generator Expressions\n",
    "\n",
    "List comprehensions provide a concise way to create lists. Generator expressions are similar but yield items one at a time and are more memory efficient."
   ]
  },
  {
   "cell_type": "code",
   "execution_count": 52,
   "metadata": {},
   "outputs": [
    {
     "data": {
      "text/plain": [
       "[0, 1, 4, 9, 16, 25, 36, 49, 64, 81]"
      ]
     },
     "execution_count": 52,
     "metadata": {},
     "output_type": "execute_result"
    }
   ],
   "source": [
    "squares = []\n",
    "for x in range(10):\n",
    "    squares.append(x**2)\n",
    "\n",
    "# List comprehension\n",
    "squares = [x**2 for x in range(10)]\n",
    "squares"
   ]
  },
  {
   "cell_type": "code",
   "execution_count": 53,
   "metadata": {},
   "outputs": [
    {
     "data": {
      "text/plain": [
       "<generator object <genexpr> at 0x11287fc60>"
      ]
     },
     "execution_count": 53,
     "metadata": {},
     "output_type": "execute_result"
    }
   ],
   "source": [
    "# Generator expression\n",
    "squares_gen = (x**2 for x in range(10))\n",
    "squares_gen"
   ]
  },
  {
   "cell_type": "code",
   "execution_count": 64,
   "metadata": {},
   "outputs": [
    {
     "data": {
      "text/plain": [
       "81"
      ]
     },
     "execution_count": 64,
     "metadata": {},
     "output_type": "execute_result"
    }
   ],
   "source": [
    "next(iter(squares_gen))"
   ]
  },
  {
   "cell_type": "code",
   "execution_count": 65,
   "metadata": {},
   "outputs": [],
   "source": [
    "def gen(n):\n",
    "    for i in range(n):\n",
    "        yield i"
   ]
  },
  {
   "cell_type": "code",
   "execution_count": 66,
   "metadata": {},
   "outputs": [
    {
     "name": "stdout",
     "output_type": "stream",
     "text": [
      "<generator object gen at 0x112796b50>\n",
      "0\n",
      "2\n",
      "4\n",
      "6\n",
      "8\n"
     ]
    }
   ],
   "source": [
    "values = gen(5)\n",
    "print(values)\n",
    "for i in values:\n",
    "    print(i * 2)"
   ]
  },
  {
   "cell_type": "markdown",
   "metadata": {},
   "source": [
    "### 10. Lambdas\n",
    "\n",
    "A lambda function is a small anonymous function. It can have any number of arguments but only one expression."
   ]
  },
  {
   "cell_type": "code",
   "execution_count": 69,
   "metadata": {},
   "outputs": [
    {
     "data": {
      "text/plain": [
       "31"
      ]
     },
     "execution_count": 69,
     "metadata": {},
     "output_type": "execute_result"
    }
   ],
   "source": [
    "multiply = lambda a, b, c: a * b + c\n",
    "result = multiply(5, 6, 1)\n",
    "result"
   ]
  },
  {
   "cell_type": "markdown",
   "metadata": {},
   "source": [
    "### 11 Decorators\n",
    "\n",
    "Decorators provide a way to modify functions using other functions. This is powerful for extending the functionality of your code.\n"
   ]
  },
  {
   "cell_type": "code",
   "execution_count": 70,
   "metadata": {},
   "outputs": [
    {
     "name": "stdout",
     "output_type": "stream",
     "text": [
      "Something is happening before the function is called.\n",
      "Tadadadadadad!\n",
      "Something is happening after the function is called.\n"
     ]
    }
   ],
   "source": [
    "def my_decorator(func):\n",
    "    def wrapper():\n",
    "        print(\"Something is happening before the function is called.\")\n",
    "        func()\n",
    "        print(\"Something is happening after the function is called.\")\n",
    "\n",
    "    return wrapper\n",
    "\n",
    "\n",
    "def say_hello():\n",
    "    print(\"Tadadadadadad!\")\n",
    "\n",
    "\n",
    "decorated_say_hello = my_decorator(say_hello)\n",
    "decorated_say_hello()"
   ]
  },
  {
   "cell_type": "code",
   "execution_count": 71,
   "metadata": {},
   "outputs": [
    {
     "name": "stdout",
     "output_type": "stream",
     "text": [
      "Something is happening before the function is called.\n",
      "Hello!\n",
      "Something is happening after the function is called.\n"
     ]
    }
   ],
   "source": [
    "@my_decorator\n",
    "def say_hello():\n",
    "    print(\"Hello!\")\n",
    "\n",
    "\n",
    "say_hello()"
   ]
  },
  {
   "cell_type": "markdown",
   "metadata": {},
   "source": [
    "Using args and kwargs allow the decorator the be dynamic"
   ]
  },
  {
   "cell_type": "code",
   "execution_count": 74,
   "metadata": {},
   "outputs": [
    {
     "name": "stdout",
     "output_type": "stream",
     "text": [
      "Function finished\n",
      "Elapsed time: 2.0011379718780518 seconds\n"
     ]
    }
   ],
   "source": [
    "def timer(func):\n",
    "    import time\n",
    "\n",
    "    def wrapper(*args, **kwargs):\n",
    "        start = time.time()\n",
    "        result = func(*args, **kwargs)\n",
    "        end = time.time()\n",
    "        print(f\"Elapsed time: {end - start} seconds\")\n",
    "        return result\n",
    "\n",
    "    return wrapper\n",
    "\n",
    "\n",
    "@timer\n",
    "def slow_function():\n",
    "    import time\n",
    "\n",
    "    time.sleep(2)\n",
    "    print(\"Function finished\")\n",
    "\n",
    "slow_function()"
   ]
  },
  {
   "cell_type": "markdown",
   "metadata": {},
   "source": [
    "### 12 Regex\n",
    "\n",
    "Regular Expressions (Regex) are used for searching, matching, and manipulating strings. Python's `re` module provides support for working with Regex.\n"
   ]
  },
  {
   "cell_type": "code",
   "execution_count": 75,
   "metadata": {},
   "outputs": [
    {
     "data": {
      "text/plain": [
       "<re.Match object; span=(11, 16), match='apple'>"
      ]
     },
     "execution_count": 75,
     "metadata": {},
     "output_type": "execute_result"
    }
   ],
   "source": [
    "import re\n",
    "\n",
    "re.search(r\"apple\", \"this is an apple\")"
   ]
  },
  {
   "cell_type": "code",
   "execution_count": 77,
   "metadata": {},
   "outputs": [
    {
     "name": "stdout",
     "output_type": "stream",
     "text": [
      "['123', '456', '1']\n"
     ]
    }
   ],
   "source": [
    "import re\n",
    "\n",
    "matches = re.findall(r\"\\d+\", \"123 abc 456 def 1\")\n",
    "print(matches)"
   ]
  },
  {
   "cell_type": "code",
   "execution_count": 79,
   "metadata": {},
   "outputs": [
    {
     "name": "stdout",
     "output_type": "stream",
     "text": [
      "The string contains uppercase letter(s).\n"
     ]
    }
   ],
   "source": [
    "import re\n",
    "\n",
    "\n",
    "def has_uppercase(input_string):\n",
    "    if re.search(r\"[A-Z]\", input_string):\n",
    "        return True\n",
    "    return False\n",
    "\n",
    "\n",
    "string = \"Hello World!\"\n",
    "if has_uppercase(string):\n",
    "    print(\"The string contains uppercase letter(s).\")\n",
    "else:\n",
    "    print(\"The string does not contain uppercase letter(s).\")"
   ]
  },
  {
   "cell_type": "code",
   "execution_count": 80,
   "metadata": {},
   "outputs": [
    {
     "name": "stdout",
     "output_type": "stream",
     "text": [
      "Protocol: https\n",
      "Domain: www.example.com\n",
      "Path: /path/to/page\n"
     ]
    }
   ],
   "source": [
    "import re\n",
    "\n",
    "\n",
    "def parse_url(url):\n",
    "    pattern = re.compile(r\"(https?://)([^/]+)(.*)\")\n",
    "    match = pattern.match(url)\n",
    "    if match:\n",
    "        protocol, domain, path = match.groups()\n",
    "        return protocol, domain, path\n",
    "    else:\n",
    "        return None, None, None\n",
    "\n",
    "\n",
    "url = \"https://www.example.com/path/to/page\"\n",
    "protocol, domain, path = parse_url(url)\n",
    "if protocol and domain:\n",
    "    print(f\"Protocol: {protocol[:-3]}\")  # Removing '://'\n",
    "    print(f\"Domain: {domain}\")\n",
    "    print(f\"Path: {path}\")\n",
    "else:\n",
    "    print(\"Invalid URL\")"
   ]
  },
  {
   "cell_type": "code",
   "execution_count": null,
   "metadata": {},
   "outputs": [],
   "source": []
  }
 ],
 "metadata": {
  "kernelspec": {
   "display_name": "Python 3",
   "language": "python",
   "name": "python3"
  },
  "language_info": {
   "codemirror_mode": {
    "name": "ipython",
    "version": 3
   },
   "file_extension": ".py",
   "mimetype": "text/x-python",
   "name": "python",
   "nbconvert_exporter": "python",
   "pygments_lexer": "ipython3",
   "version": "3.12.2"
  },
  "orig_nbformat": 4
 },
 "nbformat": 4,
 "nbformat_minor": 2
}
