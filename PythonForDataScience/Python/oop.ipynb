{
 "cells": [
  {
   "cell_type": "markdown",
   "metadata": {},
   "source": [
    "### 1. Classes and Objects: Meet the Heroes\n",
    "\n",
    "#### 2.1 Defining a Class: The Blueprint of a Hero\n",
    "A class is like a blueprint that defines the structure and behavior of an object. Let's create a generic Hero class that will serve as the base for our specialized heroes like archers and wizards."
   ]
  },
  {
   "cell_type": "code",
   "execution_count": 2,
   "metadata": {},
   "outputs": [],
   "source": [
    "class Hero:\n",
    "    def __init__(self, name, level):\n",
    "        self.name = name\n",
    "        self.level = level\n",
    "\n",
    "    def describe(self):\n",
    "        return f\"{self.name}, Level {self.level} Hero\""
   ]
  },
  {
   "cell_type": "markdown",
   "metadata": {},
   "source": [
    "#### 2.2 Creating Objects: Summoning Heroes\n",
    "An object is an instance of a class."
   ]
  },
  {
   "cell_type": "code",
   "execution_count": 3,
   "metadata": {},
   "outputs": [
    {
     "name": "stdout",
     "output_type": "stream",
     "text": [
      "Max\n",
      "Max, Level 5 Hero\n"
     ]
    }
   ],
   "source": [
    "hero = Hero(\"Max\", 5)\n",
    "print(hero.name)\n",
    "print(hero.describe())"
   ]
  },
  {
   "cell_type": "markdown",
   "metadata": {},
   "source": [
    "#### Dive deeper into the internals of classes and instances"
   ]
  },
  {
   "cell_type": "code",
   "execution_count": 4,
   "metadata": {},
   "outputs": [],
   "source": [
    "class Hero:\n",
    "    weight = 100\n",
    "\n",
    "    def __init__(self, name, level):\n",
    "        self.name = name\n",
    "        self.level = level\n",
    "\n",
    "    def describe(self):\n",
    "        return f\"{self.name}, Level {self.level} Hero\"\n",
    "\n",
    "\n",
    "hero1 = Hero(\"Merlin\", 10)"
   ]
  },
  {
   "cell_type": "code",
   "execution_count": 5,
   "metadata": {},
   "outputs": [
    {
     "data": {
      "text/plain": [
       "mappingproxy({'__module__': '__main__',\n",
       "              'weight': 100,\n",
       "              '__init__': <function __main__.Hero.__init__(self, name, level)>,\n",
       "              'describe': <function __main__.Hero.describe(self)>,\n",
       "              '__dict__': <attribute '__dict__' of 'Hero' objects>,\n",
       "              '__weakref__': <attribute '__weakref__' of 'Hero' objects>,\n",
       "              '__doc__': None})"
      ]
     },
     "execution_count": 5,
     "metadata": {},
     "output_type": "execute_result"
    }
   ],
   "source": [
    "Hero.__dict__"
   ]
  },
  {
   "cell_type": "code",
   "execution_count": 6,
   "metadata": {},
   "outputs": [
    {
     "data": {
      "text/plain": [
       "{'name': 'Merlin', 'level': 10}"
      ]
     },
     "execution_count": 6,
     "metadata": {},
     "output_type": "execute_result"
    }
   ],
   "source": [
    "hero1.__dict__"
   ]
  },
  {
   "cell_type": "code",
   "execution_count": 7,
   "metadata": {},
   "outputs": [
    {
     "name": "stdout",
     "output_type": "stream",
     "text": [
      "100\n"
     ]
    }
   ],
   "source": [
    "print(hero1.weight)"
   ]
  },
  {
   "cell_type": "code",
   "execution_count": 8,
   "metadata": {},
   "outputs": [
    {
     "data": {
      "text/plain": [
       "mappingproxy({'__module__': '__main__',\n",
       "              'weight': 100,\n",
       "              '__init__': <function __main__.Hero.__init__(self, name, level)>,\n",
       "              'describe': <function __main__.Hero.describe(self)>,\n",
       "              '__dict__': <attribute '__dict__' of 'Hero' objects>,\n",
       "              '__weakref__': <attribute '__weakref__' of 'Hero' objects>,\n",
       "              '__doc__': None})"
      ]
     },
     "execution_count": 8,
     "metadata": {},
     "output_type": "execute_result"
    }
   ],
   "source": [
    "hero1.__class__.__dict__  # Just for demonstration, never use code like this ;-)"
   ]
  },
  {
   "cell_type": "markdown",
   "metadata": {},
   "source": [
    "### 3. Inheritance\n",
    "Inheritance allows a class to inherit attributes and methods from another class. "
   ]
  },
  {
   "cell_type": "code",
   "execution_count": 9,
   "metadata": {},
   "outputs": [
    {
     "name": "stdout",
     "output_type": "stream",
     "text": [
      "Robin, Level 10 Archer\n",
      "Merlin, Level 12 Wizard\n"
     ]
    }
   ],
   "source": [
    "class Archer(Hero):\n",
    "    def describe(self):\n",
    "        return f\"{self.name}, Level {self.level} Archer\"\n",
    "\n",
    "\n",
    "class Wizard(Hero):\n",
    "    def describe(self):\n",
    "        return f\"{self.name}, Level {self.level} Wizard\"\n",
    "\n",
    "\n",
    "archer = Archer(\"Robin\", 10)\n",
    "wizard = Wizard(\"Merlin\", 12)\n",
    "\n",
    "print(archer.describe())\n",
    "print(wizard.describe())"
   ]
  },
  {
   "cell_type": "markdown",
   "metadata": {},
   "source": [
    "Using `super()` to call methods of the parent class"
   ]
  },
  {
   "cell_type": "code",
   "execution_count": 10,
   "metadata": {},
   "outputs": [],
   "source": [
    "class Archer(Hero):\n",
    "    def __init__(self, name, level, arrow_count):\n",
    "        super().__init__(name, level)\n",
    "        self.arrow_count = arrow_count\n",
    "\n",
    "    def describe(self):\n",
    "        return f\"{super().describe()}, Arrows: {self.arrow_count}\"\n",
    "\n",
    "\n",
    "class Wizard(Hero):\n",
    "    def __init__(self, name, level, spell_count):\n",
    "        super().__init__(name, level)\n",
    "        self.spell_count = spell_count\n",
    "\n",
    "    def describe(self):\n",
    "        return f\"{super().describe()}, Spells: {self.spell_count}\""
   ]
  },
  {
   "cell_type": "code",
   "execution_count": 11,
   "metadata": {},
   "outputs": [
    {
     "name": "stdout",
     "output_type": "stream",
     "text": [
      "Robin, Level 10 Hero, Arrows: 20\n",
      "Merlin, Level 12 Hero, Spells: 5\n"
     ]
    }
   ],
   "source": [
    "archer = Archer(\"Robin\", 10, 20)\n",
    "wizard = Wizard(\"Merlin\", 12, 5)\n",
    "\n",
    "print(archer.describe())\n",
    "print(wizard.describe())"
   ]
  },
  {
   "cell_type": "markdown",
   "metadata": {},
   "source": [
    "### Private Attributes, getters and setters"
   ]
  },
  {
   "cell_type": "code",
   "execution_count": 12,
   "metadata": {},
   "outputs": [
    {
     "name": "stdout",
     "output_type": "stream",
     "text": [
      "Getter used\n",
      "5\n",
      "5\n",
      "Getter used\n",
      "6\n",
      "Invalid level: 3. Must be greater than current level 6.\n"
     ]
    }
   ],
   "source": [
    "class Hero:\n",
    "    def __init__(self, name, level):\n",
    "        self.name = name\n",
    "        self._level = level\n",
    "\n",
    "    @property\n",
    "    def level(self):\n",
    "        print(\"Getter used\")\n",
    "        return self._level\n",
    "\n",
    "    @level.setter\n",
    "    def level(self, new_level):\n",
    "        if new_level > self._level:\n",
    "            self._level = new_level\n",
    "        else:\n",
    "            print(\n",
    "                f\"Invalid level: {new_level}. Must be greater than current level {self._level}.\"\n",
    "            )\n",
    "\n",
    "    def describe(self):\n",
    "        return f\"{self.name}, Level {self.level} Hero\"\n",
    "\n",
    "\n",
    "hero1 = Hero(\"Merlin\", 5)\n",
    "print(hero1.level)\n",
    "print(hero1._level)\n",
    "hero1.level = 6\n",
    "print(hero1.level)\n",
    "hero1.level = 3"
   ]
  },
  {
   "cell_type": "markdown",
   "metadata": {},
   "source": [
    "#### Dunder methods"
   ]
  },
  {
   "cell_type": "code",
   "execution_count": 13,
   "metadata": {},
   "outputs": [],
   "source": [
    "class Hero:\n",
    "    def __init__(self, name, level):\n",
    "        self.name = name\n",
    "        self._level = level\n",
    "\n",
    "    @property\n",
    "    def level(self):\n",
    "        print(\"Getter used\")\n",
    "        return self._level\n",
    "\n",
    "    @level.setter\n",
    "    def level(self, new_level):\n",
    "        if new_level > self._level:\n",
    "            self._level = new_level\n",
    "        else:\n",
    "            print(\n",
    "                f\"Invalid level: {new_level}. Must be greater than current level {self._level}.\"\n",
    "            )\n",
    "\n",
    "    def describe(self):\n",
    "        return f\"{self.name}, Level {self.level} Hero\"\n",
    "\n",
    "    def __str__(self):\n",
    "        return f\"{self.name}, Level {self._level} Hero\"\n",
    "\n",
    "    def __add__(self, other):\n",
    "        return Hero(f\"{self.name}&{other.name}\", self.level + other.level)"
   ]
  },
  {
   "cell_type": "code",
   "execution_count": 14,
   "metadata": {},
   "outputs": [
    {
     "name": "stdout",
     "output_type": "stream",
     "text": [
      "Merlin, Level 5 Hero\n",
      "Melchor, Level 5 Hero\n",
      "Getter used\n",
      "Getter used\n",
      "Merlin&Melchor, Level 10 Hero\n"
     ]
    }
   ],
   "source": [
    "hero1 = Hero(\"Merlin\", 5)\n",
    "hero2 = Hero(\"Melchor\", 5)\n",
    "print(hero1)\n",
    "print(hero2)\n",
    "print(hero1 + hero2)"
   ]
  },
  {
   "cell_type": "markdown",
   "metadata": {},
   "source": [
    "We have to create the subclasses again to be able to use the dunder methods from inside the childclass"
   ]
  },
  {
   "cell_type": "code",
   "execution_count": 15,
   "metadata": {},
   "outputs": [],
   "source": [
    "class Archer(Hero):\n",
    "    def __init__(self, name, level, arrow_count):\n",
    "        super().__init__(name, level)\n",
    "        self.arrow_count = arrow_count\n",
    "\n",
    "    def describe(self):\n",
    "        return f\"{super().describe()}, Arrows: {self.arrow_count}\"\n",
    "\n",
    "\n",
    "class Wizard(Hero):\n",
    "    def __init__(self, name, level, spell_count):\n",
    "        super().__init__(name, level)\n",
    "        self.spell_count = spell_count\n",
    "\n",
    "    def describe(self):\n",
    "        return f\"{super().describe()}, Spells: {self.spell_count}\""
   ]
  },
  {
   "cell_type": "code",
   "execution_count": 16,
   "metadata": {},
   "outputs": [],
   "source": [
    "class Team:\n",
    "    def __init__(self, *heroes):\n",
    "        self.heroes = heroes\n",
    "\n",
    "    def describe(self):\n",
    "        for hero in self.heroes:\n",
    "            print(hero.describe())"
   ]
  },
  {
   "cell_type": "code",
   "execution_count": 17,
   "metadata": {},
   "outputs": [
    {
     "name": "stdout",
     "output_type": "stream",
     "text": [
      "Getter used\n",
      "Robin, Level 10 Hero, Arrows: 20\n",
      "Getter used\n",
      "Merlin, Level 12 Hero, Spells: 5\n"
     ]
    }
   ],
   "source": [
    "archer = Archer(\"Robin\", 10, 20)\n",
    "wizard = Wizard(\"Merlin\", 12, 5)\n",
    "\n",
    "team = Team(archer, wizard)\n",
    "\n",
    "team.describe()"
   ]
  },
  {
   "cell_type": "markdown",
   "metadata": {},
   "source": [
    "#### Abstract Classes and methods"
   ]
  },
  {
   "cell_type": "code",
   "execution_count": 18,
   "metadata": {},
   "outputs": [],
   "source": [
    "from abc import ABC, abstractmethod\n",
    "\n",
    "\n",
    "class Hero(ABC):\n",
    "    def __init__(self, name, level):\n",
    "        self.name = name\n",
    "        self._level = level\n",
    "\n",
    "    @property\n",
    "    def level(self):\n",
    "        return self._level\n",
    "\n",
    "    @level.setter\n",
    "    def level(self, new_level):\n",
    "        if new_level > self._level:\n",
    "            self._level = new_level\n",
    "        else:\n",
    "            print(\n",
    "                f\"Invalid level: {new_level}. Must be greater than current level {self._level}.\"\n",
    "            )\n",
    "\n",
    "    @abstractmethod\n",
    "    def describe(self):\n",
    "        pass\n",
    "\n",
    "    def __str__(self):\n",
    "        return self.describe()\n",
    "\n",
    "    def __add__(self, other):\n",
    "        return Hero(f\"{self.name}&{other.name}\", self.level + other.level)"
   ]
  },
  {
   "cell_type": "code",
   "execution_count": 19,
   "metadata": {},
   "outputs": [
    {
     "ename": "TypeError",
     "evalue": "Can't instantiate abstract class Archer without an implementation for abstract method 'describe'",
     "output_type": "error",
     "traceback": [
      "\u001b[0;31m---------------------------------------------------------------------------\u001b[0m",
      "\u001b[0;31mTypeError\u001b[0m                                 Traceback (most recent call last)",
      "Cell \u001b[0;32mIn[19], line 6\u001b[0m\n\u001b[1;32m      2\u001b[0m     \u001b[38;5;28;01mdef\u001b[39;00m \u001b[38;5;21mdescribe_fail\u001b[39m(\u001b[38;5;28mself\u001b[39m):\n\u001b[1;32m      3\u001b[0m         \u001b[38;5;28;01mreturn\u001b[39;00m \u001b[38;5;124m\"\u001b[39m\u001b[38;5;124mfail\u001b[39m\u001b[38;5;124m\"\u001b[39m\n\u001b[0;32m----> 6\u001b[0m archer1 \u001b[38;5;241m=\u001b[39m \u001b[43mArcher\u001b[49m\u001b[43m(\u001b[49m\u001b[38;5;124;43m\"\u001b[39;49m\u001b[38;5;124;43mMerlin\u001b[39;49m\u001b[38;5;124;43m\"\u001b[39;49m\u001b[43m,\u001b[49m\u001b[43m \u001b[49m\u001b[38;5;241;43m5\u001b[39;49m\u001b[43m)\u001b[49m\n",
      "\u001b[0;31mTypeError\u001b[0m: Can't instantiate abstract class Archer without an implementation for abstract method 'describe'"
     ]
    }
   ],
   "source": [
    "class Archer(Hero):\n",
    "    def describe_fail(self):\n",
    "        return \"fail\"\n",
    "\n",
    "\n",
    "archer1 = Archer(\"Merlin\", 5)"
   ]
  },
  {
   "cell_type": "code",
   "execution_count": 20,
   "metadata": {},
   "outputs": [
    {
     "data": {
      "text/plain": [
       "<__main__.Archer at 0x111d4fb90>"
      ]
     },
     "execution_count": 20,
     "metadata": {},
     "output_type": "execute_result"
    }
   ],
   "source": [
    "class Archer(Hero):\n",
    "    def describe(self):\n",
    "        return f\"{self.name}, Level {self.level} Archer\"\n",
    "\n",
    "\n",
    "archer1 = Archer(\"Merlin\", 5)\n",
    "archer1"
   ]
  },
  {
   "cell_type": "code",
   "execution_count": 4,
   "metadata": {},
   "outputs": [
    {
     "name": "stdout",
     "output_type": "stream",
     "text": [
      "Original: Hello, World!\n",
      "Reversed: !dlroW ,olleH\n"
     ]
    }
   ],
   "source": [
    "def reverse_sentence(sentence):\n",
    "    return sentence[::-1]\n",
    "\n",
    "# Example usage\n",
    "original_sentence = \"Hello, World!\"\n",
    "reversed_sentence = reverse_sentence(original_sentence)\n",
    "print(\"Original:\", original_sentence)\n",
    "print(\"Reversed:\", reversed_sentence)\n"
   ]
  },
  {
   "cell_type": "code",
   "execution_count": 10,
   "metadata": {},
   "outputs": [
    {
     "name": "stdout",
     "output_type": "stream",
     "text": [
      "['Hello,', 'World']\n",
      "World Hello,\n"
     ]
    }
   ],
   "source": [
    "def flip_string(text):\n",
    "  # Split the string on spaces\n",
    "  words = text.split()\n",
    "  print(words)\n",
    "  \n",
    "  # Reverse the order of the words\n",
    "  flipped_words = words[::-1]\n",
    "\n",
    "  # Join the flipped words back into a string with spaces\n",
    "  return \" \".join(flipped_words)\n",
    "\n",
    "# Example usage\n",
    "text = \"Hello, World\"\n",
    "flipped_text = flip_string(text)\n",
    "print(flipped_text)\n"
   ]
  }
 ],
 "metadata": {
  "kernelspec": {
   "display_name": "Python 3",
   "language": "python",
   "name": "python3"
  },
  "language_info": {
   "codemirror_mode": {
    "name": "ipython",
    "version": 3
   },
   "file_extension": ".py",
   "mimetype": "text/x-python",
   "name": "python",
   "nbconvert_exporter": "python",
   "pygments_lexer": "ipython3",
   "version": "3.12.2"
  },
  "orig_nbformat": 4
 },
 "nbformat": 4,
 "nbformat_minor": 2
}
