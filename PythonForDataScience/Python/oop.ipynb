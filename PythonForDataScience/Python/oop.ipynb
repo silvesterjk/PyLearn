{
 "cells": [
  {
   "cell_type": "markdown",
   "metadata": {},
   "source": [
    "### 1. Classes and Objects: Meet the Heroes\n",
    "\n",
    "#### 2.1 Defining a Class: The Blueprint of a Hero\n",
    "A class is like a blueprint that defines the structure and behavior of an object. Let's create a generic Hero class that will serve as the base for our specialized heroes like archers and wizards."
   ]
  },
  {
   "cell_type": "code",
   "execution_count": 2,
   "metadata": {},
   "outputs": [],
   "source": [
    "class Hero:\n",
    "    def __init__(self, name, level):\n",
    "        self.name = name\n",
    "        self.level = level\n",
    "\n",
    "    def describe(self):\n",
    "        return f\"{self.name}, Level {self.level} Hero\""
   ]
  },
  {
   "cell_type": "markdown",
   "metadata": {},
   "source": [
    "#### 2.2 Creating Objects: Summoning Heroes\n",
    "An object is an instance of a class."
   ]
  },
  {
   "cell_type": "code",
   "execution_count": 3,
   "metadata": {},
   "outputs": [
    {
     "name": "stdout",
     "output_type": "stream",
     "text": [
      "Max\n",
      "Max, Level 5 Hero\n"
     ]
    }
   ],
   "source": [
    "hero = Hero(\"Max\", 5)\n",
    "print(hero.name)\n",
    "print(hero.describe())"
   ]
  },
  {
   "cell_type": "markdown",
   "metadata": {},
   "source": [
    "#### Dive deeper into the internals of classes and instances"
   ]
  },
  {
   "cell_type": "code",
   "execution_count": 4,
   "metadata": {},
   "outputs": [],
   "source": [
    "class Hero:\n",
    "    weight = 100\n",
    "\n",
    "    def __init__(self, name, level):\n",
    "        self.name = name\n",
    "        self.level = level\n",
    "\n",
    "    def describe(self):\n",
    "        return f\"{self.name}, Level {self.level} Hero\"\n",
    "\n",
    "\n",
    "hero1 = Hero(\"Merlin\", 10)"
   ]
  },
  {
   "cell_type": "code",
   "execution_count": 5,
   "metadata": {},
   "outputs": [
    {
     "data": {
      "text/plain": [
       "mappingproxy({'__module__': '__main__',\n",
       "              'weight': 100,\n",
       "              '__init__': <function __main__.Hero.__init__(self, name, level)>,\n",
       "              'describe': <function __main__.Hero.describe(self)>,\n",
       "              '__dict__': <attribute '__dict__' of 'Hero' objects>,\n",
       "              '__weakref__': <attribute '__weakref__' of 'Hero' objects>,\n",
       "              '__doc__': None})"
      ]
     },
     "execution_count": 5,
     "metadata": {},
     "output_type": "execute_result"
    }
   ],
   "source": [
    "Hero.__dict__"
   ]
  },
  {
   "cell_type": "code",
   "execution_count": 6,
   "metadata": {},
   "outputs": [
    {
     "data": {
      "text/plain": [
       "{'name': 'Merlin', 'level': 10}"
      ]
     },
     "execution_count": 6,
     "metadata": {},
     "output_type": "execute_result"
    }
   ],
   "source": [
    "hero1.__dict__"
   ]
  },
  {
   "cell_type": "code",
   "execution_count": 7,
   "metadata": {},
   "outputs": [
    {
     "name": "stdout",
     "output_type": "stream",
     "text": [
      "100\n"
     ]
    }
   ],
   "source": [
    "print(hero1.weight)"
   ]
  },
  {
   "cell_type": "code",
   "execution_count": 8,
   "metadata": {},
   "outputs": [
    {
     "data": {
      "text/plain": [
       "mappingproxy({'__module__': '__main__',\n",
       "              'weight': 100,\n",
       "              '__init__': <function __main__.Hero.__init__(self, name, level)>,\n",
       "              'describe': <function __main__.Hero.describe(self)>,\n",
       "              '__dict__': <attribute '__dict__' of 'Hero' objects>,\n",
       "              '__weakref__': <attribute '__weakref__' of 'Hero' objects>,\n",
       "              '__doc__': None})"
      ]
     },
     "execution_count": 8,
     "metadata": {},
     "output_type": "execute_result"
    }
   ],
   "source": [
    "hero1.__class__.__dict__  # Just for demonstration, never use code like this ;-)"
   ]
  },
  {
   "cell_type": "markdown",
   "metadata": {},
   "source": [
    "### 3. Inheritance\n",
    "Inheritance allows a class to inherit attributes and methods from another class. "
   ]
  },
  {
   "cell_type": "code",
   "execution_count": 9,
   "metadata": {},
   "outputs": [
    {
     "name": "stdout",
     "output_type": "stream",
     "text": [
      "Robin, Level 10 Archer\n",
      "Merlin, Level 12 Wizard\n"
     ]
    }
   ],
   "source": [
    "class Archer(Hero):\n",
    "    def describe(self):\n",
    "        return f\"{self.name}, Level {self.level} Archer\"\n",
    "\n",
    "\n",
    "class Wizard(Hero):\n",
    "    def describe(self):\n",
    "        return f\"{self.name}, Level {self.level} Wizard\"\n",
    "\n",
    "\n",
    "archer = Archer(\"Robin\", 10)\n",
    "wizard = Wizard(\"Merlin\", 12)\n",
    "\n",
    "print(archer.describe())\n",
    "print(wizard.describe())"
   ]
  },
  {
   "cell_type": "markdown",
   "metadata": {},
   "source": [
    "Using `super()` to call methods of the parent class"
   ]
  },
  {
   "cell_type": "code",
   "execution_count": 10,
   "metadata": {},
   "outputs": [],
   "source": [
    "class Archer(Hero):\n",
    "    def __init__(self, name, level, arrow_count):\n",
    "        super().__init__(name, level)\n",
    "        self.arrow_count = arrow_count\n",
    "\n",
    "    def describe(self):\n",
    "        return f\"{super().describe()}, Arrows: {self.arrow_count}\"\n",
    "\n",
    "\n",
    "class Wizard(Hero):\n",
    "    def __init__(self, name, level, spell_count):\n",
    "        super().__init__(name, level)\n",
    "        self.spell_count = spell_count\n",
    "\n",
    "    def describe(self):\n",
    "        return f\"{super().describe()}, Spells: {self.spell_count}\""
   ]
  },
  {
   "cell_type": "code",
   "execution_count": 11,
   "metadata": {},
   "outputs": [
    {
     "name": "stdout",
     "output_type": "stream",
     "text": [
      "Robin, Level 10 Hero, Arrows: 20\n",
      "Merlin, Level 12 Hero, Spells: 5\n"
     ]
    }
   ],
   "source": [
    "archer = Archer(\"Robin\", 10, 20)\n",
    "wizard = Wizard(\"Merlin\", 12, 5)\n",
    "\n",
    "print(archer.describe())\n",
    "print(wizard.describe())"
   ]
  },
  {
   "cell_type": "markdown",
   "metadata": {},
   "source": [
    "### Private Attributes, getters and setters"
   ]
  },
  {
   "cell_type": "code",
   "execution_count": 12,
   "metadata": {},
   "outputs": [
    {
     "name": "stdout",
     "output_type": "stream",
     "text": [
      "Getter used\n",
      "5\n",
      "5\n",
      "Getter used\n",
      "6\n",
      "Invalid level: 3. Must be greater than current level 6.\n"
     ]
    }
   ],
   "source": [
    "class Hero:\n",
    "    def __init__(self, name, level):\n",
    "        self.name = name\n",
    "        self._level = level\n",
    "\n",
    "    @property\n",
    "    def level(self):\n",
    "        print(\"Getter used\")\n",
    "        return self._level\n",
    "\n",
    "    @level.setter\n",
    "    def level(self, new_level):\n",
    "        if new_level > self._level:\n",
    "            self._level = new_level\n",
    "        else:\n",
    "            print(\n",
    "                f\"Invalid level: {new_level}. Must be greater than current level {self._level}.\"\n",
    "            )\n",
    "\n",
    "    def describe(self):\n",
    "        return f\"{self.name}, Level {self.level} Hero\"\n",
    "\n",
    "\n",
    "hero1 = Hero(\"Merlin\", 5)\n",
    "print(hero1.level)\n",
    "print(hero1._level)\n",
    "hero1.level = 6\n",
    "print(hero1.level)\n",
    "hero1.level = 3"
   ]
  },
  {
   "cell_type": "markdown",
   "metadata": {},
   "source": [
    "#### Dunder methods"
   ]
  },
  {
   "cell_type": "code",
   "execution_count": 13,
   "metadata": {},
   "outputs": [],
   "source": [
    "class Hero:\n",
    "    def __init__(self, name, level):\n",
    "        self.name = name\n",
    "        self._level = level\n",
    "\n",
    "    @property\n",
    "    def level(self):\n",
    "        print(\"Getter used\")\n",
    "        return self._level\n",
    "\n",
    "    @level.setter\n",
    "    def level(self, new_level):\n",
    "        if new_level > self._level:\n",
    "            self._level = new_level\n",
    "        else:\n",
    "            print(\n",
    "                f\"Invalid level: {new_level}. Must be greater than current level {self._level}.\"\n",
    "            )\n",
    "\n",
    "    def describe(self):\n",
    "        return f\"{self.name}, Level {self.level} Hero\"\n",
    "\n",
    "    def __str__(self):\n",
    "        return f\"{self.name}, Level {self._level} Hero\"\n",
    "\n",
    "    def __add__(self, other):\n",
    "        return Hero(f\"{self.name}&{other.name}\", self.level + other.level)"
   ]
  },
  {
   "cell_type": "code",
   "execution_count": 14,
   "metadata": {},
   "outputs": [
    {
     "name": "stdout",
     "output_type": "stream",
     "text": [
      "Merlin, Level 5 Hero\n",
      "Melchor, Level 5 Hero\n",
      "Getter used\n",
      "Getter used\n",
      "Merlin&Melchor, Level 10 Hero\n"
     ]
    }
   ],
   "source": [
    "hero1 = Hero(\"Merlin\", 5)\n",
    "hero2 = Hero(\"Melchor\", 5)\n",
    "print(hero1)\n",
    "print(hero2)\n",
    "print(hero1 + hero2)"
   ]
  },
  {
   "cell_type": "markdown",
   "metadata": {},
   "source": [
    "We have to create the subclasses again to be able to use the dunder methods from inside the childclass"
   ]
  },
  {
   "cell_type": "code",
   "execution_count": 15,
   "metadata": {},
   "outputs": [],
   "source": [
    "class Archer(Hero):\n",
    "    def __init__(self, name, level, arrow_count):\n",
    "        super().__init__(name, level)\n",
    "        self.arrow_count = arrow_count\n",
    "\n",
    "    def describe(self):\n",
    "        return f\"{super().describe()}, Arrows: {self.arrow_count}\"\n",
    "\n",
    "\n",
    "class Wizard(Hero):\n",
    "    def __init__(self, name, level, spell_count):\n",
    "        super().__init__(name, level)\n",
    "        self.spell_count = spell_count\n",
    "\n",
    "    def describe(self):\n",
    "        return f\"{super().describe()}, Spells: {self.spell_count}\""
   ]
  },
  {
   "cell_type": "code",
   "execution_count": 16,
   "metadata": {},
   "outputs": [],
   "source": [
    "class Team:\n",
    "    def __init__(self, *heroes):\n",
    "        self.heroes = heroes\n",
    "\n",
    "    def describe(self):\n",
    "        for hero in self.heroes:\n",
    "            print(hero.describe())"
   ]
  },
  {
   "cell_type": "code",
   "execution_count": 17,
   "metadata": {},
   "outputs": [
    {
     "name": "stdout",
     "output_type": "stream",
     "text": [
      "Getter used\n",
      "Robin, Level 10 Hero, Arrows: 20\n",
      "Getter used\n",
      "Merlin, Level 12 Hero, Spells: 5\n"
     ]
    }
   ],
   "source": [
    "archer = Archer(\"Robin\", 10, 20)\n",
    "wizard = Wizard(\"Merlin\", 12, 5)\n",
    "\n",
    "team = Team(archer, wizard)\n",
    "\n",
    "team.describe()"
   ]
  },
  {
   "cell_type": "markdown",
   "metadata": {},
   "source": [
    "#### Abstract Classes and methods"
   ]
  },
  {
   "cell_type": "code",
   "execution_count": 18,
   "metadata": {},
   "outputs": [],
   "source": [
    "from abc import ABC, abstractmethod\n",
    "\n",
    "\n",
    "class Hero(ABC):\n",
    "    def __init__(self, name, level):\n",
    "        self.name = name\n",
    "        self._level = level\n",
    "\n",
    "    @property\n",
    "    def level(self):\n",
    "        return self._level\n",
    "\n",
    "    @level.setter\n",
    "    def level(self, new_level):\n",
    "        if new_level > self._level:\n",
    "            self._level = new_level\n",
    "        else:\n",
    "            print(\n",
    "                f\"Invalid level: {new_level}. Must be greater than current level {self._level}.\"\n",
    "            )\n",
    "\n",
    "    @abstractmethod\n",
    "    def describe(self):\n",
    "        pass\n",
    "\n",
    "    def __str__(self):\n",
    "        return self.describe()\n",
    "\n",
    "    def __add__(self, other):\n",
    "        return Hero(f\"{self.name}&{other.name}\", self.level + other.level)"
   ]
  },
  {
   "cell_type": "code",
   "execution_count": 37,
   "metadata": {},
   "outputs": [],
   "source": [
    "text2 = \"\"\"\n",
    "\n",
    ". conservation their of importance the and extinction imminent their of implications the discuss also We . survival its ensure to needed strategies the discuss and Quetzal Resplendent the of conservation and , ecology , biology the examine we , article this In . regulations hunting and initiatives protection habitat as such , efforts conservation of number a to subject being species the to led has This . decreasing steadily is size population its and , List Red IUCN the on vulnerable as listed now is It . overhunting and destruction habitat to due years recent in declined have estimates population but , abundant be to considered long was Quetzal Resplendent The . length1 in cm 52 reach can which , feathers tail long and plumage red and green bright its for notable is It . family the in species widespread most and best-known the is and family Trogonidae the of member a is It . America South and Central to native bird iridescent , colorful of species a is ) mocinno Pharomachrus ( Quetzal Resplendent The\n",
    "\"\"\""
   ]
  },
  {
   "cell_type": "code",
   "execution_count": 41,
   "metadata": {},
   "outputs": [
    {
     "name": "stdout",
     "output_type": "stream",
     "text": [
      "['.', 'conservation', 'their', 'of', 'importance', 'the', 'and', 'extinction', 'imminent', 'their', 'of', 'implications', 'the', 'discuss', 'also', 'We', '.', 'survival', 'its', 'ensure', 'to', 'needed', 'strategies', 'the', 'discuss', 'and', 'Quetzal', 'Resplendent', 'the', 'of', 'conservation', 'and', ',', 'ecology', ',', 'biology', 'the', 'examine', 'we', ',', 'article', 'this', 'In', '.', 'regulations', 'hunting', 'and', 'initiatives', 'protection', 'habitat', 'as', 'such', ',', 'efforts', 'conservation', 'of', 'number', 'a', 'to', 'subject', 'being', 'species', 'the', 'to', 'led', 'has', 'This', '.', 'decreasing', 'steadily', 'is', 'size', 'population', 'its', 'and', ',', 'List', 'Red', 'IUCN', 'the', 'on', 'vulnerable', 'as', 'listed', 'now', 'is', 'It', '.', 'overhunting', 'and', 'destruction', 'habitat', 'to', 'due', 'years', 'recent', 'in', 'declined', 'have', 'estimates', 'population', 'but', ',', 'abundant', 'be', 'to', 'considered', 'long', 'was', 'Quetzal', 'Resplendent', 'The', '.', 'length1', 'in', 'cm', '52', 'reach', 'can', 'which', ',', 'feathers', 'tail', 'long', 'and', 'plumage', 'red', 'and', 'green', 'bright', 'its', 'for', 'notable', 'is', 'It', '.', 'family', 'the', 'in', 'species', 'widespread', 'most', 'and', 'best-known', 'the', 'is', 'and', 'family', 'Trogonidae', 'the', 'of', 'member', 'a', 'is', 'It', '.', 'America', 'South', 'and', 'Central', 'to', 'native', 'bird', 'iridescent', ',', 'colorful', 'of', 'species', 'a', 'is', ')', 'mocinno', 'Pharomachrus', '(', 'Quetzal', 'Resplendent', 'The']\n",
      "The Resplendent Quetzal ( Pharomachrus mocinno ) is a species of colorful , iridescent bird native to Central and South America . It is a member of the Trogonidae family and is the best-known and most widespread species in the family . It is notable for its bright green and red plumage and long tail feathers , which can reach 52 cm in length1 . The Resplendent Quetzal was long considered to be abundant , but population estimates have declined in recent years due to habitat destruction and overhunting . It is now listed as vulnerable on the IUCN Red List , and its population size is steadily decreasing . This has led to the species being subject to a number of conservation efforts , such as habitat protection initiatives and hunting regulations . In this article , we examine the biology , ecology , and conservation of the Resplendent Quetzal and discuss the strategies needed to ensure its survival . We also discuss the implications of their imminent extinction and the importance of their conservation .\n"
     ]
    }
   ],
   "source": [
    "def flip_string(text):\n",
    "  # Split the string on spaces\n",
    "  words = text.split()\n",
    "  print(words)\n",
    "\n",
    "  # Reverse the order of the words\n",
    "  flipped_words = words[::-1]\n",
    "\n",
    "  # Join the flipped words back into a string with spaces\n",
    "  return \" \".join(flipped_words)\n",
    "\n",
    "# Example usage\n",
    "text = text2\n",
    "flipped_text = flip_string(text)\n",
    "print(flipped_text)"
   ]
  },
  {
   "cell_type": "code",
   "execution_count": 42,
   "metadata": {},
   "outputs": [],
   "source": [
    "text3 = \"\"\".noitavresnoc rieht fo ecnatropmi eht dna noitcnitxe tnenimmi rieht fo snoitacilpmi eht ssucsid osla eW .lavivrus sti erusne ot dedeen seigetarts eht ssucsid dna lazteuQ tnednelpseR eht fo noitavresnoc dna ,ygoloce ,ygoloib eht enimaxe ew ,elcitra siht nI\n",
    "\n",
    ".snoitaluger gnitnuh dna sevitaitini noitcetorp tatibah sa hcus ,stroffe noitavresnoc fo rebmun a ot tcejbus gnieb seiceps eht ot del sah sihT .gnisaerced ylidaets si ezis noitalupop sti dna ,tsiL deR NCUI eht no elbarenluv sa detsil won si tI .gnitnuhrevo dna noitcurtsed tatibah ot eud sraey tnecer ni denilced evah setamitse noitalupop tub ,tnadnuba eb ot deredisnoc gnol saw lazteuQ tnednelpseR ehT\n",
    "\n",
    ".1htgnel ni mc 25 hcaer nac hcihw ,srehtaef liat gnol dna egamulp der dna neerg thgirb sti rof elbaton si tI .ylimaf eht ni seiceps daerpsediw tsom dna nwonk-tseb eht si dna ylimaf eadinogorT eht fo rebmem a si tI .aciremA htuoS dna lartneC ot evitan drib tnecsediri ,lufroloc fo seiceps a si )onnicom surhcamorahP( lazteuQ tnednelpseR ehT \"\"\""
   ]
  },
  {
   "cell_type": "code",
   "execution_count": 43,
   "metadata": {},
   "outputs": [
    {
     "name": "stdout",
     "output_type": "stream",
     "text": [
      "Original: .noitavresnoc rieht fo ecnatropmi eht dna noitcnitxe tnenimmi rieht fo snoitacilpmi eht ssucsid osla eW .lavivrus sti erusne ot dedeen seigetarts eht ssucsid dna lazteuQ tnednelpseR eht fo noitavresnoc dna ,ygoloce ,ygoloib eht enimaxe ew ,elcitra siht nI\n",
      "\n",
      ".snoitaluger gnitnuh dna sevitaitini noitcetorp tatibah sa hcus ,stroffe noitavresnoc fo rebmun a ot tcejbus gnieb seiceps eht ot del sah sihT .gnisaerced ylidaets si ezis noitalupop sti dna ,tsiL deR NCUI eht no elbarenluv sa detsil won si tI .gnitnuhrevo dna noitcurtsed tatibah ot eud sraey tnecer ni denilced evah setamitse noitalupop tub ,tnadnuba eb ot deredisnoc gnol saw lazteuQ tnednelpseR ehT\n",
      "\n",
      ".1htgnel ni mc 25 hcaer nac hcihw ,srehtaef liat gnol dna egamulp der dna neerg thgirb sti rof elbaton si tI .ylimaf eht ni seiceps daerpsediw tsom dna nwonk-tseb eht si dna ylimaf eadinogorT eht fo rebmem a si tI .aciremA htuoS dna lartneC ot evitan drib tnecsediri ,lufroloc fo seiceps a si )onnicom surhcamorahP( lazteuQ tnednelpseR ehT \n",
      "Reversed:  The Resplendent Quetzal (Pharomachrus mocinno) is a species of colorful, iridescent bird native to Central and South America. It is a member of the Trogonidae family and is the best-known and most widespread species in the family. It is notable for its bright green and red plumage and long tail feathers, which can reach 52 cm in length1.\n",
      "\n",
      "The Resplendent Quetzal was long considered to be abundant, but population estimates have declined in recent years due to habitat destruction and overhunting. It is now listed as vulnerable on the IUCN Red List, and its population size is steadily decreasing. This has led to the species being subject to a number of conservation efforts, such as habitat protection initiatives and hunting regulations.\n",
      "\n",
      "In this article, we examine the biology, ecology, and conservation of the Resplendent Quetzal and discuss the strategies needed to ensure its survival. We also discuss the implications of their imminent extinction and the importance of their conservation.\n"
     ]
    }
   ],
   "source": [
    "def reverse_sentence(sentence):\n",
    "    return sentence[::-1]\n",
    "\n",
    "# Example usage\n",
    "original_sentence = text3\n",
    "reversed_sentence = reverse_sentence(original_sentence)\n",
    "print(\"Original:\", original_sentence)\n",
    "print(\"Reversed:\", reversed_sentence)"
   ]
  },
  {
   "cell_type": "code",
   "execution_count": null,
   "metadata": {},
   "outputs": [
    {
     "name": "stdout",
     "output_type": "stream",
     "text": [
      "\u001b[34mCS50P\u001b[m\u001b[m/             pybasic.ipynb      typehinting.ipynb\n",
      "oop.ipynb          \u001b[34mtesting\u001b[m\u001b[m/\n"
     ]
    }
   ],
   "source": [
    "ls"
   ]
  },
  {
   "cell_type": "code",
   "execution_count": null,
   "metadata": {},
   "outputs": [
    {
     "name": "stdout",
     "output_type": "stream",
     "text": [
      "CSV processed and saved as first_batch_data2.csv\n"
     ]
    }
   ],
   "source": [
    "import pandas as pd\n",
    "\n",
    "# Define the functions for flipping\n",
    "def flip_string(text):\n",
    "  words = text.split()\n",
    "  return \" \".join(words[::-1])  # Reverse the order of words\n",
    "\n",
    "def reverse_char(text):\n",
    "  return text[::-1]  # Reverse characters\n",
    "\n",
    "# Load the CSV data\n",
    "df = pd.read_csv(\"dataprep2.csv\")\n",
    "\n",
    "# Add new columns with flipped outputs\n",
    "df[\"new_output1\"] = df[\"output\"].apply(flip_string)\n",
    "df[\"new_output2\"] = df[\"output\"].apply(reverse_char)\n",
    "\n",
    "# Save the modified dataframe\n",
    "df.to_csv(\"first_batch_data2.csv\", index=False)\n",
    "\n",
    "print(\"CSV processed and saved as first_batch_data2.csv\")"
   ]
  },
  {
   "cell_type": "code",
   "execution_count": 36,
   "metadata": {},
   "outputs": [
    {
     "name": "stdout",
     "output_type": "stream",
     "text": [
      "CSV processed and saved as first_batch_data.csv\n"
     ]
    }
   ],
   "source": [
    "import pandas as pd\n",
    "import re\n",
    "\n",
    "# Define the functions for flipping\n",
    "def flip_string(text):\n",
    "  words = text.split()\n",
    "  return \" \".join(words[::-1])  # Reverse the order of words\n",
    "\n",
    "def reverse_char(text):\n",
    "  return text[::-1]  # Reverse characters\n",
    "\n",
    "def process_text_v3(sentence):\n",
    "    # Step 1: Add spaces\n",
    "    sentence = re.sub(r\"(?<!\\s)([!\\\"#$%&'()*+,-./:;<=>?@[\\]^_`{|}~])(?=(\\s|$))\", r\" \\1\", sentence)\n",
    "    sentence = re.sub(r\"([\\(\\[\\{])\", r\"\\1 \", sentence)\n",
    "    \n",
    "    # Step 2: Split and reverse\n",
    "    words = sentence.split()\n",
    "    words.reverse()\n",
    "    \n",
    "    # Step 4: Join the elements\n",
    "    return \" \".join(words)\n",
    "\n",
    "# Load the CSV data\n",
    "df = pd.read_csv(\"dataprep_.csv\")\n",
    "\n",
    "# Apply text processing and add a new column\n",
    "df[\"new_output1\"] = df[\"output\"].apply(process_text_v3)\n",
    "df[\"new_output2\"] = df[\"output\"].apply(reverse_char)\n",
    "\n",
    "# Save the modified dataframe\n",
    "df.to_csv(\"first_batch_data.csv\", index=False)\n",
    "\n",
    "print(\"CSV processed and saved as first_batch_data.csv\")"
   ]
  },
  {
   "cell_type": "code",
   "execution_count": 57,
   "metadata": {},
   "outputs": [
    {
     "name": "stdout",
     "output_type": "stream",
     "text": [
      "Processed data added to 'word_data_train' column.\n"
     ]
    }
   ],
   "source": [
    "import pandas as pd\n",
    "\n",
    "# Define the concatenation pattern\n",
    "pattern = \"<s>[INST] {} [/INST] {} </s>\"\n",
    "\n",
    "def process_row(row):\n",
    "  instruction = row[\"instruction\"]\n",
    "  output = row[\"output\"]\n",
    "  # Concatenate data using the pattern\n",
    "  train_data = pattern.format(instruction, output)\n",
    "  return train_data\n",
    "\n",
    "# Read the CSV file into a DataFrame\n",
    "df = pd.read_csv(\"word_data.csv\")\n",
    "\n",
    "# Create a new empty column for train data\n",
    "df[\"word_data_train\"] = None\n",
    "\n",
    "# Apply the processing function to each row (one cell at a time)\n",
    "df[\"word_data_train\"] = df.apply(process_row, axis=1)\n",
    "\n",
    "# Load the \"train_data\" column as a separate DataFrame\n",
    "train_df = df[[\"word_data_train\"]]  # Select only the train_data column\n",
    "\n",
    "# You can now save the train_df to a new CSV file if needed\n",
    "train_df.to_csv(\"word_data_train.csv\", index=False)\n",
    "\n",
    "print(\"Processed data added to 'word_data_train' column.\")\n"
   ]
  },
  {
   "cell_type": "code",
   "execution_count": 58,
   "metadata": {},
   "outputs": [
    {
     "name": "stdout",
     "output_type": "stream",
     "text": [
      "Processed data added to 'char_train_data' column and exported char_train.csv\n"
     ]
    }
   ],
   "source": [
    "import pandas as pd\n",
    "\n",
    "# Define the concatenation pattern\n",
    "pattern = \"<s>[INST] {} [/INST] {} </s>\"\n",
    "\n",
    "def process_row(row):\n",
    "  instruction = row[\"instruction\"]\n",
    "  output = row[\"output\"]\n",
    "  # Concatenate data using the pattern\n",
    "  train_data = pattern.format(instruction, output)\n",
    "  return train_data\n",
    "\n",
    "# Read the CSV file into a DataFrame\n",
    "df = pd.read_csv(\"char_data.csv\")\n",
    "\n",
    "# Create a new empty column for train data\n",
    "df[\"char_train_data\"] = None\n",
    "\n",
    "# Apply the processing function to each row (one cell at a time)\n",
    "df[\"char_train_data\"] = df.apply(process_row, axis=1)\n",
    "\n",
    "# Load the \"train_data\" column as a separate DataFrame\n",
    "train_df = df[[\"char_train_data\"]]  # Select only the train_data column\n",
    "\n",
    "# You can now save the train_df to a new CSV file if needed\n",
    "train_df.to_csv(\"char_train.csv\", index=False)\n",
    "\n",
    "print(\"Processed data added to 'char_train_data' column and exported char_train.csv\")\n"
   ]
  },
  {
   "cell_type": "code",
   "execution_count": 53,
   "metadata": {},
   "outputs": [
    {
     "ename": "KeyError",
     "evalue": "'instruction'",
     "output_type": "error",
     "traceback": [
      "\u001b[0;31m---------------------------------------------------------------------------\u001b[0m",
      "\u001b[0;31mKeyError\u001b[0m                                  Traceback (most recent call last)",
      "File \u001b[0;32m~/opt/anaconda3/envs/myenv/lib/python3.12/site-packages/pandas/core/indexes/base.py:3805\u001b[0m, in \u001b[0;36mIndex.get_loc\u001b[0;34m(self, key)\u001b[0m\n\u001b[1;32m   3804\u001b[0m \u001b[38;5;28;01mtry\u001b[39;00m:\n\u001b[0;32m-> 3805\u001b[0m     \u001b[38;5;28;01mreturn\u001b[39;00m \u001b[38;5;28;43mself\u001b[39;49m\u001b[38;5;241;43m.\u001b[39;49m\u001b[43m_engine\u001b[49m\u001b[38;5;241;43m.\u001b[39;49m\u001b[43mget_loc\u001b[49m\u001b[43m(\u001b[49m\u001b[43mcasted_key\u001b[49m\u001b[43m)\u001b[49m\n\u001b[1;32m   3806\u001b[0m \u001b[38;5;28;01mexcept\u001b[39;00m \u001b[38;5;167;01mKeyError\u001b[39;00m \u001b[38;5;28;01mas\u001b[39;00m err:\n",
      "File \u001b[0;32mindex.pyx:167\u001b[0m, in \u001b[0;36mpandas._libs.index.IndexEngine.get_loc\u001b[0;34m()\u001b[0m\n",
      "File \u001b[0;32mindex.pyx:196\u001b[0m, in \u001b[0;36mpandas._libs.index.IndexEngine.get_loc\u001b[0;34m()\u001b[0m\n",
      "File \u001b[0;32mpandas/_libs/hashtable_class_helper.pxi:7081\u001b[0m, in \u001b[0;36mpandas._libs.hashtable.PyObjectHashTable.get_item\u001b[0;34m()\u001b[0m\n",
      "File \u001b[0;32mpandas/_libs/hashtable_class_helper.pxi:7089\u001b[0m, in \u001b[0;36mpandas._libs.hashtable.PyObjectHashTable.get_item\u001b[0;34m()\u001b[0m\n",
      "\u001b[0;31mKeyError\u001b[0m: 'instruction'",
      "\nThe above exception was the direct cause of the following exception:\n",
      "\u001b[0;31mKeyError\u001b[0m                                  Traceback (most recent call last)",
      "Cell \u001b[0;32mIn[53], line 20\u001b[0m\n\u001b[1;32m     17\u001b[0m df[\u001b[38;5;124m\"\u001b[39m\u001b[38;5;124mordered\u001b[39m\u001b[38;5;124m\"\u001b[39m] \u001b[38;5;241m=\u001b[39m \u001b[38;5;28;01mNone\u001b[39;00m\n\u001b[1;32m     19\u001b[0m \u001b[38;5;66;03m# Apply the processing function to each row (one cell at a time)\u001b[39;00m\n\u001b[0;32m---> 20\u001b[0m df[\u001b[38;5;124m\"\u001b[39m\u001b[38;5;124mordered\u001b[39m\u001b[38;5;124m\"\u001b[39m] \u001b[38;5;241m=\u001b[39m \u001b[43mdf\u001b[49m\u001b[38;5;241;43m.\u001b[39;49m\u001b[43mapply\u001b[49m\u001b[43m(\u001b[49m\u001b[43mprocess_row\u001b[49m\u001b[43m,\u001b[49m\u001b[43m \u001b[49m\u001b[43maxis\u001b[49m\u001b[38;5;241;43m=\u001b[39;49m\u001b[38;5;241;43m1\u001b[39;49m\u001b[43m)\u001b[49m\n\u001b[1;32m     22\u001b[0m \u001b[38;5;66;03m# Load the \"train_data\" column as a separate DataFrame\u001b[39;00m\n\u001b[1;32m     23\u001b[0m train_df \u001b[38;5;241m=\u001b[39m df[[\u001b[38;5;124m\"\u001b[39m\u001b[38;5;124mordered\u001b[39m\u001b[38;5;124m\"\u001b[39m]]  \u001b[38;5;66;03m# Select only the train_data column\u001b[39;00m\n",
      "File \u001b[0;32m~/opt/anaconda3/envs/myenv/lib/python3.12/site-packages/pandas/core/frame.py:10361\u001b[0m, in \u001b[0;36mDataFrame.apply\u001b[0;34m(self, func, axis, raw, result_type, args, by_row, engine, engine_kwargs, **kwargs)\u001b[0m\n\u001b[1;32m  10347\u001b[0m \u001b[38;5;28;01mfrom\u001b[39;00m \u001b[38;5;21;01mpandas\u001b[39;00m\u001b[38;5;21;01m.\u001b[39;00m\u001b[38;5;21;01mcore\u001b[39;00m\u001b[38;5;21;01m.\u001b[39;00m\u001b[38;5;21;01mapply\u001b[39;00m \u001b[38;5;28;01mimport\u001b[39;00m frame_apply\n\u001b[1;32m  10349\u001b[0m op \u001b[38;5;241m=\u001b[39m frame_apply(\n\u001b[1;32m  10350\u001b[0m     \u001b[38;5;28mself\u001b[39m,\n\u001b[1;32m  10351\u001b[0m     func\u001b[38;5;241m=\u001b[39mfunc,\n\u001b[0;32m   (...)\u001b[0m\n\u001b[1;32m  10359\u001b[0m     kwargs\u001b[38;5;241m=\u001b[39mkwargs,\n\u001b[1;32m  10360\u001b[0m )\n\u001b[0;32m> 10361\u001b[0m \u001b[38;5;28;01mreturn\u001b[39;00m \u001b[43mop\u001b[49m\u001b[38;5;241;43m.\u001b[39;49m\u001b[43mapply\u001b[49m\u001b[43m(\u001b[49m\u001b[43m)\u001b[49m\u001b[38;5;241m.\u001b[39m__finalize__(\u001b[38;5;28mself\u001b[39m, method\u001b[38;5;241m=\u001b[39m\u001b[38;5;124m\"\u001b[39m\u001b[38;5;124mapply\u001b[39m\u001b[38;5;124m\"\u001b[39m)\n",
      "File \u001b[0;32m~/opt/anaconda3/envs/myenv/lib/python3.12/site-packages/pandas/core/apply.py:916\u001b[0m, in \u001b[0;36mFrameApply.apply\u001b[0;34m(self)\u001b[0m\n\u001b[1;32m    913\u001b[0m \u001b[38;5;28;01melif\u001b[39;00m \u001b[38;5;28mself\u001b[39m\u001b[38;5;241m.\u001b[39mraw:\n\u001b[1;32m    914\u001b[0m     \u001b[38;5;28;01mreturn\u001b[39;00m \u001b[38;5;28mself\u001b[39m\u001b[38;5;241m.\u001b[39mapply_raw(engine\u001b[38;5;241m=\u001b[39m\u001b[38;5;28mself\u001b[39m\u001b[38;5;241m.\u001b[39mengine, engine_kwargs\u001b[38;5;241m=\u001b[39m\u001b[38;5;28mself\u001b[39m\u001b[38;5;241m.\u001b[39mengine_kwargs)\n\u001b[0;32m--> 916\u001b[0m \u001b[38;5;28;01mreturn\u001b[39;00m \u001b[38;5;28;43mself\u001b[39;49m\u001b[38;5;241;43m.\u001b[39;49m\u001b[43mapply_standard\u001b[49m\u001b[43m(\u001b[49m\u001b[43m)\u001b[49m\n",
      "File \u001b[0;32m~/opt/anaconda3/envs/myenv/lib/python3.12/site-packages/pandas/core/apply.py:1063\u001b[0m, in \u001b[0;36mFrameApply.apply_standard\u001b[0;34m(self)\u001b[0m\n\u001b[1;32m   1061\u001b[0m \u001b[38;5;28;01mdef\u001b[39;00m \u001b[38;5;21mapply_standard\u001b[39m(\u001b[38;5;28mself\u001b[39m):\n\u001b[1;32m   1062\u001b[0m     \u001b[38;5;28;01mif\u001b[39;00m \u001b[38;5;28mself\u001b[39m\u001b[38;5;241m.\u001b[39mengine \u001b[38;5;241m==\u001b[39m \u001b[38;5;124m\"\u001b[39m\u001b[38;5;124mpython\u001b[39m\u001b[38;5;124m\"\u001b[39m:\n\u001b[0;32m-> 1063\u001b[0m         results, res_index \u001b[38;5;241m=\u001b[39m \u001b[38;5;28;43mself\u001b[39;49m\u001b[38;5;241;43m.\u001b[39;49m\u001b[43mapply_series_generator\u001b[49m\u001b[43m(\u001b[49m\u001b[43m)\u001b[49m\n\u001b[1;32m   1064\u001b[0m     \u001b[38;5;28;01melse\u001b[39;00m:\n\u001b[1;32m   1065\u001b[0m         results, res_index \u001b[38;5;241m=\u001b[39m \u001b[38;5;28mself\u001b[39m\u001b[38;5;241m.\u001b[39mapply_series_numba()\n",
      "File \u001b[0;32m~/opt/anaconda3/envs/myenv/lib/python3.12/site-packages/pandas/core/apply.py:1081\u001b[0m, in \u001b[0;36mFrameApply.apply_series_generator\u001b[0;34m(self)\u001b[0m\n\u001b[1;32m   1078\u001b[0m \u001b[38;5;28;01mwith\u001b[39;00m option_context(\u001b[38;5;124m\"\u001b[39m\u001b[38;5;124mmode.chained_assignment\u001b[39m\u001b[38;5;124m\"\u001b[39m, \u001b[38;5;28;01mNone\u001b[39;00m):\n\u001b[1;32m   1079\u001b[0m     \u001b[38;5;28;01mfor\u001b[39;00m i, v \u001b[38;5;129;01min\u001b[39;00m \u001b[38;5;28menumerate\u001b[39m(series_gen):\n\u001b[1;32m   1080\u001b[0m         \u001b[38;5;66;03m# ignore SettingWithCopy here in case the user mutates\u001b[39;00m\n\u001b[0;32m-> 1081\u001b[0m         results[i] \u001b[38;5;241m=\u001b[39m \u001b[38;5;28;43mself\u001b[39;49m\u001b[38;5;241;43m.\u001b[39;49m\u001b[43mfunc\u001b[49m\u001b[43m(\u001b[49m\u001b[43mv\u001b[49m\u001b[43m,\u001b[49m\u001b[43m \u001b[49m\u001b[38;5;241;43m*\u001b[39;49m\u001b[38;5;28;43mself\u001b[39;49m\u001b[38;5;241;43m.\u001b[39;49m\u001b[43margs\u001b[49m\u001b[43m,\u001b[49m\u001b[43m \u001b[49m\u001b[38;5;241;43m*\u001b[39;49m\u001b[38;5;241;43m*\u001b[39;49m\u001b[38;5;28;43mself\u001b[39;49m\u001b[38;5;241;43m.\u001b[39;49m\u001b[43mkwargs\u001b[49m\u001b[43m)\u001b[49m\n\u001b[1;32m   1082\u001b[0m         \u001b[38;5;28;01mif\u001b[39;00m \u001b[38;5;28misinstance\u001b[39m(results[i], ABCSeries):\n\u001b[1;32m   1083\u001b[0m             \u001b[38;5;66;03m# If we have a view on v, we need to make a copy because\u001b[39;00m\n\u001b[1;32m   1084\u001b[0m             \u001b[38;5;66;03m#  series_generator will swap out the underlying data\u001b[39;00m\n\u001b[1;32m   1085\u001b[0m             results[i] \u001b[38;5;241m=\u001b[39m results[i]\u001b[38;5;241m.\u001b[39mcopy(deep\u001b[38;5;241m=\u001b[39m\u001b[38;5;28;01mFalse\u001b[39;00m)\n",
      "Cell \u001b[0;32mIn[53], line 7\u001b[0m, in \u001b[0;36mprocess_row\u001b[0;34m(row)\u001b[0m\n\u001b[1;32m      6\u001b[0m \u001b[38;5;28;01mdef\u001b[39;00m \u001b[38;5;21mprocess_row\u001b[39m(row):\n\u001b[0;32m----> 7\u001b[0m   instruction \u001b[38;5;241m=\u001b[39m \u001b[43mrow\u001b[49m\u001b[43m[\u001b[49m\u001b[38;5;124;43m\"\u001b[39;49m\u001b[38;5;124;43minstruction\u001b[39;49m\u001b[38;5;124;43m\"\u001b[39;49m\u001b[43m]\u001b[49m\n\u001b[1;32m      8\u001b[0m   output \u001b[38;5;241m=\u001b[39m row[\u001b[38;5;124m\"\u001b[39m\u001b[38;5;124moutput\u001b[39m\u001b[38;5;124m\"\u001b[39m]\n\u001b[1;32m      9\u001b[0m   \u001b[38;5;66;03m# Concatenate data using the pattern\u001b[39;00m\n",
      "File \u001b[0;32m~/opt/anaconda3/envs/myenv/lib/python3.12/site-packages/pandas/core/series.py:1112\u001b[0m, in \u001b[0;36mSeries.__getitem__\u001b[0;34m(self, key)\u001b[0m\n\u001b[1;32m   1109\u001b[0m     \u001b[38;5;28;01mreturn\u001b[39;00m \u001b[38;5;28mself\u001b[39m\u001b[38;5;241m.\u001b[39m_values[key]\n\u001b[1;32m   1111\u001b[0m \u001b[38;5;28;01melif\u001b[39;00m key_is_scalar:\n\u001b[0;32m-> 1112\u001b[0m     \u001b[38;5;28;01mreturn\u001b[39;00m \u001b[38;5;28;43mself\u001b[39;49m\u001b[38;5;241;43m.\u001b[39;49m\u001b[43m_get_value\u001b[49m\u001b[43m(\u001b[49m\u001b[43mkey\u001b[49m\u001b[43m)\u001b[49m\n\u001b[1;32m   1114\u001b[0m \u001b[38;5;66;03m# Convert generator to list before going through hashable part\u001b[39;00m\n\u001b[1;32m   1115\u001b[0m \u001b[38;5;66;03m# (We will iterate through the generator there to check for slices)\u001b[39;00m\n\u001b[1;32m   1116\u001b[0m \u001b[38;5;28;01mif\u001b[39;00m is_iterator(key):\n",
      "File \u001b[0;32m~/opt/anaconda3/envs/myenv/lib/python3.12/site-packages/pandas/core/series.py:1228\u001b[0m, in \u001b[0;36mSeries._get_value\u001b[0;34m(self, label, takeable)\u001b[0m\n\u001b[1;32m   1225\u001b[0m     \u001b[38;5;28;01mreturn\u001b[39;00m \u001b[38;5;28mself\u001b[39m\u001b[38;5;241m.\u001b[39m_values[label]\n\u001b[1;32m   1227\u001b[0m \u001b[38;5;66;03m# Similar to Index.get_value, but we do not fall back to positional\u001b[39;00m\n\u001b[0;32m-> 1228\u001b[0m loc \u001b[38;5;241m=\u001b[39m \u001b[38;5;28;43mself\u001b[39;49m\u001b[38;5;241;43m.\u001b[39;49m\u001b[43mindex\u001b[49m\u001b[38;5;241;43m.\u001b[39;49m\u001b[43mget_loc\u001b[49m\u001b[43m(\u001b[49m\u001b[43mlabel\u001b[49m\u001b[43m)\u001b[49m\n\u001b[1;32m   1230\u001b[0m \u001b[38;5;28;01mif\u001b[39;00m is_integer(loc):\n\u001b[1;32m   1231\u001b[0m     \u001b[38;5;28;01mreturn\u001b[39;00m \u001b[38;5;28mself\u001b[39m\u001b[38;5;241m.\u001b[39m_values[loc]\n",
      "File \u001b[0;32m~/opt/anaconda3/envs/myenv/lib/python3.12/site-packages/pandas/core/indexes/base.py:3812\u001b[0m, in \u001b[0;36mIndex.get_loc\u001b[0;34m(self, key)\u001b[0m\n\u001b[1;32m   3807\u001b[0m     \u001b[38;5;28;01mif\u001b[39;00m \u001b[38;5;28misinstance\u001b[39m(casted_key, \u001b[38;5;28mslice\u001b[39m) \u001b[38;5;129;01mor\u001b[39;00m (\n\u001b[1;32m   3808\u001b[0m         \u001b[38;5;28misinstance\u001b[39m(casted_key, abc\u001b[38;5;241m.\u001b[39mIterable)\n\u001b[1;32m   3809\u001b[0m         \u001b[38;5;129;01mand\u001b[39;00m \u001b[38;5;28many\u001b[39m(\u001b[38;5;28misinstance\u001b[39m(x, \u001b[38;5;28mslice\u001b[39m) \u001b[38;5;28;01mfor\u001b[39;00m x \u001b[38;5;129;01min\u001b[39;00m casted_key)\n\u001b[1;32m   3810\u001b[0m     ):\n\u001b[1;32m   3811\u001b[0m         \u001b[38;5;28;01mraise\u001b[39;00m InvalidIndexError(key)\n\u001b[0;32m-> 3812\u001b[0m     \u001b[38;5;28;01mraise\u001b[39;00m \u001b[38;5;167;01mKeyError\u001b[39;00m(key) \u001b[38;5;28;01mfrom\u001b[39;00m \u001b[38;5;21;01merr\u001b[39;00m\n\u001b[1;32m   3813\u001b[0m \u001b[38;5;28;01mexcept\u001b[39;00m \u001b[38;5;167;01mTypeError\u001b[39;00m:\n\u001b[1;32m   3814\u001b[0m     \u001b[38;5;66;03m# If we have a listlike key, _check_indexing_error will raise\u001b[39;00m\n\u001b[1;32m   3815\u001b[0m     \u001b[38;5;66;03m#  InvalidIndexError. Otherwise we fall through and re-raise\u001b[39;00m\n\u001b[1;32m   3816\u001b[0m     \u001b[38;5;66;03m#  the TypeError.\u001b[39;00m\n\u001b[1;32m   3817\u001b[0m     \u001b[38;5;28mself\u001b[39m\u001b[38;5;241m.\u001b[39m_check_indexing_error(key)\n",
      "\u001b[0;31mKeyError\u001b[0m: 'instruction'"
     ]
    }
   ],
   "source": [
    "import pandas as pd\n",
    "\n",
    "# Define the concatenation pattern\n",
    "pattern = \"<s>[INST] {} [/INST] {} </s>\"\n",
    "\n",
    "def process_row(row):\n",
    "  instruction = row[\"instruction\"]\n",
    "  output = row[\"output\"]\n",
    "  # Concatenate data using the pattern\n",
    "  train_data = pattern.format(instruction, output)\n",
    "  return train_data\n",
    "\n",
    "# Read the CSV file into a DataFrame\n",
    "df = pd.read_csv(\"ordered.csv\")\n",
    "\n",
    "# Create a new empty column for train data\n",
    "df[\"ordered\"] = None\n",
    "\n",
    "# Apply the processing function to each row (one cell at a time)\n",
    "df[\"ordered\"] = df.apply(process_row, axis=1)\n",
    "\n",
    "# Load the \"train_data\" column as a separate DataFrame\n",
    "train_df = df[[\"ordered\"]]  # Select only the train_data column\n",
    "\n",
    "# You can now save the train_df to a new CSV file if needed\n",
    "train_df.to_csv(\"ordered.csv\", index=False)\n",
    "\n",
    "print(\"Processed data added to 'ordered' column.\")\n"
   ]
  }
 ],
 "metadata": {
  "kernelspec": {
   "display_name": "Python 3",
   "language": "python",
   "name": "python3"
  },
  "language_info": {
   "codemirror_mode": {
    "name": "ipython",
    "version": 3
   },
   "file_extension": ".py",
   "mimetype": "text/x-python",
   "name": "python",
   "nbconvert_exporter": "python",
   "pygments_lexer": "ipython3",
   "version": "3.12.2"
  },
  "orig_nbformat": 4
 },
 "nbformat": 4,
 "nbformat_minor": 2
}
