{
 "cells": [
  {
   "cell_type": "code",
   "execution_count": 11,
   "metadata": {},
   "outputs": [],
   "source": [
    "# Example response\n",
    "prompt = \"\"\"\n",
    "<s>[INST] \n",
    "\n",
    "Role:\n",
    "- You are an assessor of the Cambridge B2 First English Assessment. You are an expert in this with several years of experience.\n",
    "- You will be given a conversation between an Examiner and a Candidate and your task is to give scores for two metrics for the responses given by the \"Candiate\" in the conversation.\n",
    "\n",
    "Evaluation Steps:\n",
    "\n",
    "- Read the conversation between the Examiner and the Candidate carefully.\n",
    "- Assign a score for GRAMMAR_AND_VOCABULARY and  DISCOURSE_MANAGEMENT on a scale of 1 to 5, where 1 is the lowest and 5 is the highest.\n",
    "- Please disregard the response provided by \"Examiner\" in your evaluation.\n",
    "- Present the evaluation categories and scores in JSON format and name it OUTPUT and the OUTPUT will have two key value pairs. GRAMMAR_AND_VOCABULARY and DISCOURSE_MANAGEMENT.\n",
    "____________\n",
    "\n",
    "Conversation:[{\"Examiner\": \"What do you usually do during Pongal?\", \"Candidate\": \"Eat sweets. See family.\"}, {\"Examiner\": \"Tell me about being a plumber.\", \"Candidate\": \"Fix pipes. Use tools.\"}, {\"Examiner\": \"Do you like your area?\", \"Candidate\": \"Yes, good shops.\"}, {\"Examiner\": \"What's your hobby?\", \"Candidate\": \"I read books.\"}]\n",
    "\n",
    " [/INST]'GRAMMAR_AND_VOCABULARY': 1, 'DISCOURSE_MANAGEMENT': 1767\n",
    "\n",
    "____________\n",
    "\n",
    "Conversation:[{\"Examiner\": \"How do you celebrate Makar Sankranti?\", \"Candidate\": \"Fly kites. Eat sweets.\"}, {\"Examiner\": \"Describe being a teacher.\", \"Candidate\": \"Teach kids. Grade papers.\"}, {\"Examiner\": \"Do you like your neighbourhood?\", \"Candidate\": \"Yes, has good schools.\"}, {\"Examiner\": \"What's your favorite pastime?\", \"Candidate\": \"I enjoy reading.\"}]\n",
    "\n",
    "____________\n",
    "\n",
    "Conversation:[{\"Examiner\": \"What traditions do you have for New Year?\", \"Candidate\": \"We make resolutions.\"}, {\"Examiner\": \"Explain what a mechanic does.\", \"Candidate\": \"Fixes cars. Changes oil.\"}, {\"Examiner\": \"Do you like your area for facilities?\", \"Candidate\": \"Yes, has good hospitals.\"}, {\"Examiner\": \"What's your hobby?\", \"Candidate\": \"I enjoy gardening.\"}]\n",
    "\n",
    "____________\n",
    "\n",
    "Conversation:[{\"Examiner\": \"How do you celebrate Christmas?\", \"Candidate\": \"Decorate tree. Give gifts.\"}, {\"Examiner\": \"Describe being a software developer.\", \"Candidate\": \"Writes code. Solves problems.\"}, {\"Examiner\": \"Do you like your neighbourhood for convenience?\", \"Candidate\": \"Yes, has a grocery store.\"}, {\"Examiner\": \"What's your favorite activity?\", \"Candidate\": \"I enjoy swimming.\"}]\n",
    "\n",
    "____________\n",
    "\n",
    "Conversation:[{\"Examiner\": \"What's special about Valentine's Day?\", \"Candidate\": \"We give cards. Express love.\"}, {\"Examiner\": \"Explain what a marketing professional does.\", \"Candidate\": \"Creates ads. Promotes products.\"}, {\"Examiner\": \"Do you like your area for community facilities?\", \"Candidate\": \"Yes, has a gym.\"}, {\"Examiner\": \"What's your hobby?\", \"Candidate\": \"I enjoy painting.\"}]\n",
    "\n",
    "____________\n",
    "\n",
    "Conversation:[{\"Examiner\": \"How do you celebrate Easter?\", \"Candidate\": \"Decorate eggs. Go on walks.\"}, {\"Examiner\": \"Describe being a photographer.\", \"Candidate\": \"Takes pictures. Edits photos.\"}, {\"Examiner\": \"Do you like your neighbourhood for schools?\", \"Candidate\": \"Yes, has a good school.\"}, {\"Examiner\": \"What's your favorite activity?\", \"Candidate\": \"I enjoy cycling.\"}]\n",
    "\n",
    "____________\n",
    "\n",
    "Conversation:[{\"Examiner\": \"What's special about Labor Day?\", \"Candidate\": \"We celebrate workers. Have picnics.\"},\n",
    "\"\"\""
   ]
  },
  {
   "cell_type": "code",
   "execution_count": 12,
   "metadata": {},
   "outputs": [
    {
     "name": "stdout",
     "output_type": "stream",
     "text": [
      "{'GRAMMAR_AND_VOCABULARY': 1, 'DISCOURSE_MANAGEMENT': 1767}\n"
     ]
    }
   ],
   "source": [
    "import re\n",
    "\n",
    "def extract_values(prompt):\n",
    "    # Define the pattern to find the values following [/INST]\n",
    "    pattern = r\"\\[/INST\\](.*?)\\n\"\n",
    "    \n",
    "    # Find all matches of the pattern in the response\n",
    "    matches = re.findall(pattern, prompt, re.DOTALL)\n",
    "    \n",
    "    # Extract and clean the desired values\n",
    "    extracted_values = []\n",
    "    for match in matches:\n",
    "        # Split the string by comma and strip whitespace\n",
    "        values = [value.strip() for value in match.split(',')]\n",
    "        # Filter out empty strings and unwanted data\n",
    "        values = [value for value in values if value.startswith((\"'GRAMMAR_AND_VOCABULARY'\", \"'DISCOURSE_MANAGEMENT'\"))]\n",
    "        # Convert the list of strings to a dictionary\n",
    "        values_dict = {item.split(\":\")[0].strip(\"'\"): int(item.split(\":\")[1].strip()) for item in values}\n",
    "        extracted_values.append(values_dict)\n",
    "\n",
    "    return extracted_values\n",
    "\n",
    "# Extract the values\n",
    "extracted_values = extract_values(prompt)\n",
    "\n",
    "# Print the extracted values\n",
    "for values in extracted_values:\n",
    "    print(values)"
   ]
  },
  {
   "cell_type": "code",
   "execution_count": null,
   "metadata": {},
   "outputs": [],
   "source": []
  }
 ],
 "metadata": {
  "kernelspec": {
   "display_name": "myenv",
   "language": "python",
   "name": "python3"
  },
  "language_info": {
   "codemirror_mode": {
    "name": "ipython",
    "version": 3
   },
   "file_extension": ".py",
   "mimetype": "text/x-python",
   "name": "python",
   "nbconvert_exporter": "python",
   "pygments_lexer": "ipython3",
   "version": "3.12.2"
  }
 },
 "nbformat": 4,
 "nbformat_minor": 2
}
