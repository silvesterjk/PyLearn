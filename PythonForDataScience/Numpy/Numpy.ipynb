{
 "cells": [
  {
   "cell_type": "markdown",
   "metadata": {},
   "source": [
    "## NumPy\n",
    "\n",
    "NumPy is a Python library, which adds support for large, multi-dimensional arrays and matrices, along with a large collection of optimized, high-level mathematical functions to operate on these arrays."
   ]
  },
  {
   "cell_type": "code",
   "execution_count": 9,
   "metadata": {},
   "outputs": [],
   "source": [
    "#!pip install numpy"
   ]
  },
  {
   "cell_type": "code",
   "execution_count": 3,
   "metadata": {},
   "outputs": [],
   "source": [
    "import numpy as np"
   ]
  },
  {
   "cell_type": "markdown",
   "metadata": {},
   "source": [
    "# 1. Create"
   ]
  },
  {
   "cell_type": "code",
   "execution_count": 6,
   "metadata": {},
   "outputs": [],
   "source": [
    "data = np.random.rand(4,3,4)\n",
    "zeroes = np.zeros((2,2,2))\n",
    "full = np.full((2,2,2), 7)\n",
    "ones = np.ones((2,2,2))"
   ]
  },
  {
   "cell_type": "code",
   "execution_count": 7,
   "metadata": {},
   "outputs": [
    {
     "data": {
      "text/plain": [
       "array([[[0.0343701 , 0.86034004, 0.07999108, 0.82240181],\n",
       "        [0.29776535, 0.81717995, 0.93896298, 0.11221378],\n",
       "        [0.60572209, 0.86592721, 0.08741118, 0.71748356]],\n",
       "\n",
       "       [[0.73571374, 0.55596545, 0.28399991, 0.47949358],\n",
       "        [0.04054956, 0.21759765, 0.90094697, 0.71052582],\n",
       "        [0.64245682, 0.68401859, 0.5956421 , 0.1179955 ]],\n",
       "\n",
       "       [[0.75490587, 0.95620087, 0.46067131, 0.38588869],\n",
       "        [0.77300067, 0.95845911, 0.74134385, 0.67923916],\n",
       "        [0.33904171, 0.22563092, 0.10580241, 0.53168759]],\n",
       "\n",
       "       [[0.63801522, 0.83093959, 0.36637583, 0.38822595],\n",
       "        [0.34770621, 0.08739465, 0.31090299, 0.45822502],\n",
       "        [0.18041054, 0.42036101, 0.7686216 , 0.97902922]]])"
      ]
     },
     "execution_count": 7,
     "metadata": {},
     "output_type": "execute_result"
    }
   ],
   "source": [
    "data"
   ]
  },
  {
   "cell_type": "code",
   "execution_count": 8,
   "metadata": {},
   "outputs": [
    {
     "data": {
      "text/plain": [
       "array([[[1., 1.],\n",
       "        [1., 1.]],\n",
       "\n",
       "       [[1., 1.],\n",
       "        [1., 1.]]])"
      ]
     },
     "execution_count": 8,
     "metadata": {},
     "output_type": "execute_result"
    }
   ],
   "source": [
    "ones"
   ]
  },
  {
   "cell_type": "code",
   "execution_count": 12,
   "metadata": {},
   "outputs": [
    {
     "data": {
      "text/plain": [
       "array([[[7, 7],\n",
       "        [7, 7]],\n",
       "\n",
       "       [[7, 7],\n",
       "        [7, 7]]])"
      ]
     },
     "execution_count": 12,
     "metadata": {},
     "output_type": "execute_result"
    }
   ],
   "source": [
    "full"
   ]
  },
  {
   "cell_type": "code",
   "execution_count": 10,
   "metadata": {},
   "outputs": [],
   "source": [
    "arr = np.array([[1,2,3,4],[1,2,3,4]])"
   ]
  },
  {
   "cell_type": "code",
   "execution_count": 22,
   "metadata": {},
   "outputs": [
    {
     "data": {
      "text/plain": [
       "numpy.ndarray"
      ]
     },
     "execution_count": 22,
     "metadata": {},
     "output_type": "execute_result"
    }
   ],
   "source": [
    "type(arr)"
   ]
  },
  {
   "cell_type": "code",
   "execution_count": 11,
   "metadata": {},
   "outputs": [
    {
     "data": {
      "text/plain": [
       "array([[1, 2, 3, 4],\n",
       "       [1, 2, 3, 4]])"
      ]
     },
     "execution_count": 11,
     "metadata": {},
     "output_type": "execute_result"
    }
   ],
   "source": [
    "arr"
   ]
  },
  {
   "cell_type": "markdown",
   "metadata": {},
   "source": [
    "# 2. Read"
   ]
  },
  {
   "cell_type": "code",
   "execution_count": 13,
   "metadata": {},
   "outputs": [],
   "source": [
    "# Attributes\n",
    "shape = data.shape\n",
    "size = data.size\n",
    "types = data.dtype"
   ]
  },
  {
   "cell_type": "code",
   "execution_count": 14,
   "metadata": {},
   "outputs": [
    {
     "data": {
      "text/plain": [
       "dtype('float64')"
      ]
     },
     "execution_count": 14,
     "metadata": {},
     "output_type": "execute_result"
    }
   ],
   "source": [
    "types"
   ]
  },
  {
   "cell_type": "code",
   "execution_count": 15,
   "metadata": {},
   "outputs": [],
   "source": [
    "# Slicing\n",
    "arr = data[0] # First instance of data\n",
    "reverse = data[-1]\n",
    "singleval = data[0][0][0]"
   ]
  },
  {
   "cell_type": "code",
   "execution_count": 19,
   "metadata": {},
   "outputs": [
    {
     "data": {
      "text/plain": [
       "array([[0.0343701 , 0.86034004, 0.07999108, 0.82240181],\n",
       "       [0.29776535, 0.81717995, 0.93896298, 0.11221378],\n",
       "       [0.60572209, 0.86592721, 0.08741118, 0.71748356]])"
      ]
     },
     "execution_count": 19,
     "metadata": {},
     "output_type": "execute_result"
    }
   ],
   "source": [
    "arr = data[0] # First instance of data\n",
    "arr"
   ]
  },
  {
   "cell_type": "code",
   "execution_count": 20,
   "metadata": {},
   "outputs": [
    {
     "data": {
      "text/plain": [
       "array([[0.0343701 , 0.86034004, 0.07999108, 0.82240181],\n",
       "       [0.29776535, 0.81717995, 0.93896298, 0.11221378]])"
      ]
     },
     "execution_count": 20,
     "metadata": {},
     "output_type": "execute_result"
    }
   ],
   "source": [
    "slicer = data[0][0:2] # First two of the following\n",
    "slicer"
   ]
  },
  {
   "cell_type": "code",
   "execution_count": 21,
   "metadata": {},
   "outputs": [
    {
     "data": {
      "text/plain": [
       "array([[0.0343701 , 0.86034004, 0.07999108, 0.82240181],\n",
       "       [0.29776535, 0.81717995, 0.93896298, 0.11221378],\n",
       "       [0.60572209, 0.86592721, 0.08741118, 0.71748356]])"
      ]
     },
     "execution_count": 21,
     "metadata": {},
     "output_type": "execute_result"
    }
   ],
   "source": [
    "slicer2 = data[0]\n",
    "slicer2"
   ]
  },
  {
   "cell_type": "code",
   "execution_count": 16,
   "metadata": {},
   "outputs": [
    {
     "data": {
      "text/plain": [
       "0.03437010141289021"
      ]
     },
     "execution_count": 16,
     "metadata": {},
     "output_type": "execute_result"
    }
   ],
   "source": [
    "singleval"
   ]
  },
  {
   "cell_type": "code",
   "execution_count": 17,
   "metadata": {},
   "outputs": [
    {
     "data": {
      "text/plain": [
       "array([[[0.0343701 , 0.86034004, 0.07999108, 0.82240181],\n",
       "        [0.29776535, 0.81717995, 0.93896298, 0.11221378],\n",
       "        [0.60572209, 0.86592721, 0.08741118, 0.71748356]],\n",
       "\n",
       "       [[0.73571374, 0.55596545, 0.28399991, 0.47949358],\n",
       "        [0.04054956, 0.21759765, 0.90094697, 0.71052582],\n",
       "        [0.64245682, 0.68401859, 0.5956421 , 0.1179955 ]],\n",
       "\n",
       "       [[0.75490587, 0.95620087, 0.46067131, 0.38588869],\n",
       "        [0.77300067, 0.95845911, 0.74134385, 0.67923916],\n",
       "        [0.33904171, 0.22563092, 0.10580241, 0.53168759]],\n",
       "\n",
       "       [[0.63801522, 0.83093959, 0.36637583, 0.38822595],\n",
       "        [0.34770621, 0.08739465, 0.31090299, 0.45822502],\n",
       "        [0.18041054, 0.42036101, 0.7686216 , 0.97902922]]])"
      ]
     },
     "execution_count": 17,
     "metadata": {},
     "output_type": "execute_result"
    }
   ],
   "source": [
    "data"
   ]
  },
  {
   "cell_type": "markdown",
   "metadata": {},
   "source": [
    "# 3. Update"
   ]
  },
  {
   "cell_type": "code",
   "execution_count": 22,
   "metadata": {},
   "outputs": [],
   "source": [
    "list1 = np.random.rand(10) \n",
    "list2 = np.random.rand(10) "
   ]
  },
  {
   "cell_type": "code",
   "execution_count": 23,
   "metadata": {},
   "outputs": [
    {
     "data": {
      "text/plain": [
       "array([0.48024619, 0.09120654, 0.01016138, 0.51767638, 0.15661307,\n",
       "       0.59676387, 0.21476478, 0.22525463, 0.55076408, 0.27300417])"
      ]
     },
     "execution_count": 23,
     "metadata": {},
     "output_type": "execute_result"
    }
   ],
   "source": [
    "list2"
   ]
  },
  {
   "cell_type": "code",
   "execution_count": 24,
   "metadata": {},
   "outputs": [],
   "source": [
    "# Basic Math\n",
    "add = np.add(list1, list2)\n",
    "sub = np.subtract(list1, list2)\n",
    "div = np.divide(list1, list2)\n",
    "mult = np.multiply(list1, list2)\n",
    "dot = np.dot(list1, list2)"
   ]
  },
  {
   "cell_type": "code",
   "execution_count": 25,
   "metadata": {},
   "outputs": [
    {
     "data": {
      "text/plain": [
       "1.5781581616646576"
      ]
     },
     "execution_count": 25,
     "metadata": {},
     "output_type": "execute_result"
    }
   ],
   "source": [
    "dot"
   ]
  },
  {
   "cell_type": "code",
   "execution_count": 26,
   "metadata": {},
   "outputs": [],
   "source": [
    "# Stat Functions\n",
    "sqrt = np.sqrt(25)\n",
    "ab = np.abs(-2)\n",
    "power = np.power(2,7)\n",
    "log = np.log(25)\n",
    "exp = np.exp([2,3])\n",
    "mins = np.min(list1)\n",
    "maxs = np.max(list1)"
   ]
  },
  {
   "cell_type": "code",
   "execution_count": 27,
   "metadata": {},
   "outputs": [
    {
     "data": {
      "text/plain": [
       "0.9880635880050685"
      ]
     },
     "execution_count": 27,
     "metadata": {},
     "output_type": "execute_result"
    }
   ],
   "source": [
    "maxs"
   ]
  },
  {
   "cell_type": "code",
   "execution_count": 28,
   "metadata": {},
   "outputs": [
    {
     "data": {
      "text/plain": [
       "array([[[0.0343701 , 0.86034004, 0.07999108, 0.82240181],\n",
       "        [0.29776535, 0.81717995, 0.93896298, 0.11221378],\n",
       "        [0.60572209, 0.86592721, 0.08741118, 0.71748356]],\n",
       "\n",
       "       [[0.73571374, 0.55596545, 0.28399991, 0.47949358],\n",
       "        [0.04054956, 0.21759765, 0.90094697, 0.71052582],\n",
       "        [0.64245682, 0.68401859, 0.5956421 , 0.1179955 ]],\n",
       "\n",
       "       [[0.75490587, 0.95620087, 0.46067131, 0.38588869],\n",
       "        [0.77300067, 0.95845911, 0.74134385, 0.67923916],\n",
       "        [0.33904171, 0.22563092, 0.10580241, 0.53168759]],\n",
       "\n",
       "       [[0.63801522, 0.83093959, 0.36637583, 0.38822595],\n",
       "        [0.34770621, 0.08739465, 0.31090299, 0.45822502],\n",
       "        [0.18041054, 0.42036101, 0.7686216 , 0.97902922]]])"
      ]
     },
     "execution_count": 28,
     "metadata": {},
     "output_type": "execute_result"
    }
   ],
   "source": [
    "data"
   ]
  },
  {
   "cell_type": "code",
   "execution_count": 29,
   "metadata": {},
   "outputs": [],
   "source": [
    "data[0][0][0] = 700"
   ]
  },
  {
   "cell_type": "code",
   "execution_count": 30,
   "metadata": {},
   "outputs": [
    {
     "data": {
      "text/plain": [
       "array([[[7.00000000e+02, 8.60340041e-01, 7.99910799e-02, 8.22401805e-01],\n",
       "        [2.97765348e-01, 8.17179948e-01, 9.38962977e-01, 1.12213778e-01],\n",
       "        [6.05722095e-01, 8.65927214e-01, 8.74111831e-02, 7.17483559e-01]],\n",
       "\n",
       "       [[7.35713745e-01, 5.55965450e-01, 2.83999909e-01, 4.79493580e-01],\n",
       "        [4.05495565e-02, 2.17597646e-01, 9.00946972e-01, 7.10525824e-01],\n",
       "        [6.42456819e-01, 6.84018592e-01, 5.95642101e-01, 1.17995495e-01]],\n",
       "\n",
       "       [[7.54905873e-01, 9.56200872e-01, 4.60671314e-01, 3.85888686e-01],\n",
       "        [7.73000666e-01, 9.58459110e-01, 7.41343854e-01, 6.79239162e-01],\n",
       "        [3.39041708e-01, 2.25630917e-01, 1.05802411e-01, 5.31687585e-01]],\n",
       "\n",
       "       [[6.38015222e-01, 8.30939592e-01, 3.66375827e-01, 3.88225952e-01],\n",
       "        [3.47706214e-01, 8.73946477e-02, 3.10902995e-01, 4.58225016e-01],\n",
       "        [1.80410538e-01, 4.20361010e-01, 7.68621601e-01, 9.79029222e-01]]])"
      ]
     },
     "execution_count": 30,
     "metadata": {},
     "output_type": "execute_result"
    }
   ],
   "source": [
    "data"
   ]
  },
  {
   "cell_type": "code",
   "execution_count": 31,
   "metadata": {},
   "outputs": [
    {
     "data": {
      "text/plain": [
       "array([[[7.99910799e-02, 8.22401805e-01, 8.60340041e-01, 7.00000000e+02],\n",
       "        [1.12213778e-01, 2.97765348e-01, 8.17179948e-01, 9.38962977e-01],\n",
       "        [8.74111831e-02, 6.05722095e-01, 7.17483559e-01, 8.65927214e-01]],\n",
       "\n",
       "       [[2.83999909e-01, 4.79493580e-01, 5.55965450e-01, 7.35713745e-01],\n",
       "        [4.05495565e-02, 2.17597646e-01, 7.10525824e-01, 9.00946972e-01],\n",
       "        [1.17995495e-01, 5.95642101e-01, 6.42456819e-01, 6.84018592e-01]],\n",
       "\n",
       "       [[3.85888686e-01, 4.60671314e-01, 7.54905873e-01, 9.56200872e-01],\n",
       "        [6.79239162e-01, 7.41343854e-01, 7.73000666e-01, 9.58459110e-01],\n",
       "        [1.05802411e-01, 2.25630917e-01, 3.39041708e-01, 5.31687585e-01]],\n",
       "\n",
       "       [[3.66375827e-01, 3.88225952e-01, 6.38015222e-01, 8.30939592e-01],\n",
       "        [8.73946477e-02, 3.10902995e-01, 3.47706214e-01, 4.58225016e-01],\n",
       "        [1.80410538e-01, 4.20361010e-01, 7.68621601e-01, 9.79029222e-01]]])"
      ]
     },
     "execution_count": 31,
     "metadata": {},
     "output_type": "execute_result"
    }
   ],
   "source": [
    "data.sort()\n",
    "data"
   ]
  },
  {
   "cell_type": "code",
   "execution_count": 32,
   "metadata": {},
   "outputs": [
    {
     "name": "stdout",
     "output_type": "stream",
     "text": [
      "(4, 3, 4)\n"
     ]
    }
   ],
   "source": [
    "print(data.shape)"
   ]
  },
  {
   "cell_type": "code",
   "execution_count": 33,
   "metadata": {},
   "outputs": [
    {
     "data": {
      "text/plain": [
       "(2, 2, 12)"
      ]
     },
     "execution_count": 33,
     "metadata": {},
     "output_type": "execute_result"
    }
   ],
   "source": [
    "data = data.reshape((2,2,-1)) # Negative 1, if we do not care about the last value and let numpy decide\n",
    "data.shape"
   ]
  },
  {
   "cell_type": "code",
   "execution_count": 34,
   "metadata": {},
   "outputs": [
    {
     "name": "stdout",
     "output_type": "stream",
     "text": [
      "[0. 0. 0. 0. 0. 0. 0. 0.]\n",
      "[0. 0. 0. 0. 0. 0. 0. 0. 3. 4.]\n"
     ]
    }
   ],
   "source": [
    "zeroes = np.zeros((8))\n",
    "print(zeroes)\n",
    "zeroes = np.append(zeroes, [3,4])\n",
    "print(zeroes)"
   ]
  },
  {
   "cell_type": "code",
   "execution_count": 35,
   "metadata": {},
   "outputs": [
    {
     "name": "stdout",
     "output_type": "stream",
     "text": [
      "[0. 0. 1. 0. 0. 0. 0. 0. 0. 3. 4.]\n"
     ]
    }
   ],
   "source": [
    "zeroes = np.insert(zeroes, 2, 1)\n",
    "print(zeroes)"
   ]
  },
  {
   "cell_type": "markdown",
   "metadata": {},
   "source": [
    "# 4. Delete"
   ]
  },
  {
   "cell_type": "code",
   "execution_count": 36,
   "metadata": {},
   "outputs": [
    {
     "data": {
      "text/plain": [
       "array([[[7.99910799e-02, 8.22401805e-01, 8.60340041e-01, 7.00000000e+02,\n",
       "         1.12213778e-01, 2.97765348e-01, 8.17179948e-01, 9.38962977e-01,\n",
       "         8.74111831e-02, 6.05722095e-01, 7.17483559e-01, 8.65927214e-01],\n",
       "        [2.83999909e-01, 4.79493580e-01, 5.55965450e-01, 7.35713745e-01,\n",
       "         4.05495565e-02, 2.17597646e-01, 7.10525824e-01, 9.00946972e-01,\n",
       "         1.17995495e-01, 5.95642101e-01, 6.42456819e-01, 6.84018592e-01]],\n",
       "\n",
       "       [[3.85888686e-01, 4.60671314e-01, 7.54905873e-01, 9.56200872e-01,\n",
       "         6.79239162e-01, 7.41343854e-01, 7.73000666e-01, 9.58459110e-01,\n",
       "         1.05802411e-01, 2.25630917e-01, 3.39041708e-01, 5.31687585e-01],\n",
       "        [3.66375827e-01, 3.88225952e-01, 6.38015222e-01, 8.30939592e-01,\n",
       "         8.73946477e-02, 3.10902995e-01, 3.47706214e-01, 4.58225016e-01,\n",
       "         1.80410538e-01, 4.20361010e-01, 7.68621601e-01, 9.79029222e-01]]])"
      ]
     },
     "execution_count": 36,
     "metadata": {},
     "output_type": "execute_result"
    }
   ],
   "source": [
    "data"
   ]
  },
  {
   "cell_type": "code",
   "execution_count": 37,
   "metadata": {},
   "outputs": [
    {
     "data": {
      "text/plain": [
       "array([[[0.28399991, 0.47949358, 0.55596545, 0.73571374, 0.04054956,\n",
       "         0.21759765, 0.71052582, 0.90094697, 0.1179955 , 0.5956421 ,\n",
       "         0.64245682, 0.68401859]],\n",
       "\n",
       "       [[0.36637583, 0.38822595, 0.63801522, 0.83093959, 0.08739465,\n",
       "         0.31090299, 0.34770621, 0.45822502, 0.18041054, 0.42036101,\n",
       "         0.7686216 , 0.97902922]]])"
      ]
     },
     "execution_count": 37,
     "metadata": {},
     "output_type": "execute_result"
    }
   ],
   "source": [
    "np.delete(data, 0, axis=1)"
   ]
  },
  {
   "cell_type": "code",
   "execution_count": 38,
   "metadata": {},
   "outputs": [],
   "source": [
    "np.save(\"new array\", data)"
   ]
  },
  {
   "cell_type": "code",
   "execution_count": 39,
   "metadata": {},
   "outputs": [],
   "source": [
    "test = np.load(\"new array.npy\")"
   ]
  },
  {
   "cell_type": "code",
   "execution_count": 40,
   "metadata": {},
   "outputs": [
    {
     "data": {
      "text/plain": [
       "array([[[7.99910799e-02, 8.22401805e-01, 8.60340041e-01, 7.00000000e+02,\n",
       "         1.12213778e-01, 2.97765348e-01, 8.17179948e-01, 9.38962977e-01,\n",
       "         8.74111831e-02, 6.05722095e-01, 7.17483559e-01, 8.65927214e-01],\n",
       "        [2.83999909e-01, 4.79493580e-01, 5.55965450e-01, 7.35713745e-01,\n",
       "         4.05495565e-02, 2.17597646e-01, 7.10525824e-01, 9.00946972e-01,\n",
       "         1.17995495e-01, 5.95642101e-01, 6.42456819e-01, 6.84018592e-01]],\n",
       "\n",
       "       [[3.85888686e-01, 4.60671314e-01, 7.54905873e-01, 9.56200872e-01,\n",
       "         6.79239162e-01, 7.41343854e-01, 7.73000666e-01, 9.58459110e-01,\n",
       "         1.05802411e-01, 2.25630917e-01, 3.39041708e-01, 5.31687585e-01],\n",
       "        [3.66375827e-01, 3.88225952e-01, 6.38015222e-01, 8.30939592e-01,\n",
       "         8.73946477e-02, 3.10902995e-01, 3.47706214e-01, 4.58225016e-01,\n",
       "         1.80410538e-01, 4.20361010e-01, 7.68621601e-01, 9.79029222e-01]]])"
      ]
     },
     "execution_count": 40,
     "metadata": {},
     "output_type": "execute_result"
    }
   ],
   "source": [
    "test"
   ]
  }
 ],
 "metadata": {
  "kernelspec": {
   "display_name": "Python 3",
   "language": "python",
   "name": "python3"
  },
  "language_info": {
   "codemirror_mode": {
    "name": "ipython",
    "version": 3
   },
   "file_extension": ".py",
   "mimetype": "text/x-python",
   "name": "python",
   "nbconvert_exporter": "python",
   "pygments_lexer": "ipython3",
   "version": "3.12.2"
  }
 },
 "nbformat": 4,
 "nbformat_minor": 2
}
