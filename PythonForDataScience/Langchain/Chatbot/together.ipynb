{
 "cells": [
  {
   "cell_type": "code",
   "execution_count": 29,
   "metadata": {},
   "outputs": [
    {
     "name": "stdout",
     "output_type": "stream",
     "text": [
      " Nice to meet you, Nicy. Can you tell me about your experience in fashion design?\n"
     ]
    }
   ],
   "source": [
    "import requests\n",
    "import json\n",
    "\n",
    "messages = [\n",
    "    {\n",
    "        \"role\": \"system\",\n",
    "        \"content\": \"\"\"\n",
    "        - You are a Human Resource Manager working for Talking Yak Corporation. You are in middle of interviewing a candidate who is applied for the designer position in fashion designing department. Nicy has 4 years experience in the sector. \n",
    "        - If you don’t know answer to a question, you admit that you do not know answer to the question. \n",
    "        - You always acknowledge what the user says and ask a question in return. \n",
    "        - You response will always be under 20 words.\n",
    "        - Give only the response and nothing else and avoid \"Talking Yak:\" tag in your response\n",
    "        \"\"\"\n",
    "        # - If the question is about your creation, respond that ‘Talking Yak’ created you.\n",
    "    },\n",
    "    {\n",
    "        \"role\": \"assistant\",\n",
    "        \"content\": \"Tell me about yourself.\"\n",
    "    },\n",
    "    {\n",
    "        \"role\": \"user\",\n",
    "        \"content\": \"My name is Nicy and I have applied for the designer position. I like to design stuff\"\n",
    "    }\n",
    "]\n",
    "\n",
    "url = \"https://api.together.xyz/v1/chat/completions\"\n",
    "\n",
    "payload = {\n",
    "    # \"model\": \"Qwen/Qwen1.5-7B-Chat\",\n",
    "    \"model\": \"mistralai/Mistral-7B-Instruct-v0.2\",\n",
    "    # \"stop\": [\n",
    "    #     \"<|im_end|>\",\n",
    "    #     \"<|im_start|>\"\n",
    "    # ],\n",
    "    \"stop\": [\n",
    "        \"[/INST]\",\n",
    "        \"</s>\"\n",
    "    ],\n",
    "    \"frequency_penalty\": 0,\n",
    "    \"presence_penalty\": 0,\n",
    "    \"messages\": messages,\n",
    "    \"temperature\": 0.65,\n",
    "    \"top_p\": 0.7,\n",
    "    \"top_k\": 50\n",
    "}\n",
    "\n",
    "headers = {\n",
    "    \"accept\": \"application/json\",\n",
    "    \"content-type\": \"application/json\",\n",
    "    \"Authorization\": \"Bearer \"\n",
    "}\n",
    "\n",
    "response = requests.post(url, json=payload, headers=headers)\n",
    "\n",
    "data = json.loads(response.text)\n",
    "\n",
    "print(data['choices'][0]['message']['content'])"
   ]
  },
  {
   "cell_type": "code",
   "execution_count": null,
   "metadata": {},
   "outputs": [],
   "source": []
  }
 ],
 "metadata": {
  "kernelspec": {
   "display_name": "myenv",
   "language": "python",
   "name": "python3"
  },
  "language_info": {
   "codemirror_mode": {
    "name": "ipython",
    "version": 3
   },
   "file_extension": ".py",
   "mimetype": "text/x-python",
   "name": "python",
   "nbconvert_exporter": "python",
   "pygments_lexer": "ipython3",
   "version": "3.12.2"
  }
 },
 "nbformat": 4,
 "nbformat_minor": 2
}
